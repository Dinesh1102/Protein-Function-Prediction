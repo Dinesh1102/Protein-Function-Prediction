{
 "cells": [
  {
   "cell_type": "markdown",
   "id": "b011b251",
   "metadata": {
    "papermill": {
     "duration": 0.013201,
     "end_time": "2024-04-08T07:01:42.309879",
     "exception": false,
     "start_time": "2024-04-08T07:01:42.296678",
     "status": "completed"
    },
    "tags": []
   },
   "source": [
    "# CAFA 5 protein function Prediction with TensorFlow\n",
    "\n",
    "In this notebook we trained a simple DNN model that predicts the function of the protein i.e., **GO term ID** using it's amino acid sequences."
   ]
  },
  {
   "cell_type": "code",
   "execution_count": 1,
   "id": "5604224f",
   "metadata": {
    "execution": {
     "iopub.execute_input": "2024-04-08T07:01:42.336817Z",
     "iopub.status.busy": "2024-04-08T07:01:42.336476Z",
     "iopub.status.idle": "2024-04-08T07:02:22.608197Z",
     "shell.execute_reply": "2024-04-08T07:02:22.607108Z"
    },
    "papermill": {
     "duration": 40.288079,
     "end_time": "2024-04-08T07:02:22.610653",
     "exception": false,
     "start_time": "2024-04-08T07:01:42.322574",
     "status": "completed"
    },
    "tags": []
   },
   "outputs": [
    {
     "name": "stdout",
     "output_type": "stream",
     "text": [
      "Collecting obonet\r\n",
      "  Downloading obonet-1.0.0-py3-none-any.whl.metadata (6.8 kB)\r\n",
      "Requirement already satisfied: networkx in /opt/conda/lib/python3.10/site-packages (from obonet) (3.2.1)\r\n",
      "Downloading obonet-1.0.0-py3-none-any.whl (9.2 kB)\r\n",
      "Installing collected packages: obonet\r\n",
      "Successfully installed obonet-1.0.0\r\n",
      "Collecting pyvis\r\n",
      "  Downloading pyvis-0.3.2-py3-none-any.whl.metadata (1.7 kB)\r\n",
      "Requirement already satisfied: ipython>=5.3.0 in /opt/conda/lib/python3.10/site-packages (from pyvis) (8.20.0)\r\n",
      "Requirement already satisfied: jinja2>=2.9.6 in /opt/conda/lib/python3.10/site-packages (from pyvis) (3.1.2)\r\n",
      "Collecting jsonpickle>=1.4.1 (from pyvis)\r\n",
      "  Downloading jsonpickle-3.0.3-py3-none-any.whl.metadata (7.3 kB)\r\n",
      "Requirement already satisfied: networkx>=1.11 in /opt/conda/lib/python3.10/site-packages (from pyvis) (3.2.1)\r\n",
      "Requirement already satisfied: decorator in /opt/conda/lib/python3.10/site-packages (from ipython>=5.3.0->pyvis) (5.1.1)\r\n",
      "Requirement already satisfied: jedi>=0.16 in /opt/conda/lib/python3.10/site-packages (from ipython>=5.3.0->pyvis) (0.19.1)\r\n",
      "Requirement already satisfied: matplotlib-inline in /opt/conda/lib/python3.10/site-packages (from ipython>=5.3.0->pyvis) (0.1.6)\r\n",
      "Requirement already satisfied: prompt-toolkit<3.1.0,>=3.0.41 in /opt/conda/lib/python3.10/site-packages (from ipython>=5.3.0->pyvis) (3.0.42)\r\n",
      "Requirement already satisfied: pygments>=2.4.0 in /opt/conda/lib/python3.10/site-packages (from ipython>=5.3.0->pyvis) (2.17.2)\r\n",
      "Requirement already satisfied: stack-data in /opt/conda/lib/python3.10/site-packages (from ipython>=5.3.0->pyvis) (0.6.2)\r\n",
      "Requirement already satisfied: traitlets>=5 in /opt/conda/lib/python3.10/site-packages (from ipython>=5.3.0->pyvis) (5.9.0)\r\n",
      "Requirement already satisfied: exceptiongroup in /opt/conda/lib/python3.10/site-packages (from ipython>=5.3.0->pyvis) (1.2.0)\r\n",
      "Requirement already satisfied: pexpect>4.3 in /opt/conda/lib/python3.10/site-packages (from ipython>=5.3.0->pyvis) (4.8.0)\r\n",
      "Requirement already satisfied: MarkupSafe>=2.0 in /opt/conda/lib/python3.10/site-packages (from jinja2>=2.9.6->pyvis) (2.1.3)\r\n",
      "Requirement already satisfied: parso<0.9.0,>=0.8.3 in /opt/conda/lib/python3.10/site-packages (from jedi>=0.16->ipython>=5.3.0->pyvis) (0.8.3)\r\n",
      "Requirement already satisfied: ptyprocess>=0.5 in /opt/conda/lib/python3.10/site-packages (from pexpect>4.3->ipython>=5.3.0->pyvis) (0.7.0)\r\n",
      "Requirement already satisfied: wcwidth in /opt/conda/lib/python3.10/site-packages (from prompt-toolkit<3.1.0,>=3.0.41->ipython>=5.3.0->pyvis) (0.2.13)\r\n",
      "Requirement already satisfied: executing>=1.2.0 in /opt/conda/lib/python3.10/site-packages (from stack-data->ipython>=5.3.0->pyvis) (2.0.1)\r\n",
      "Requirement already satisfied: asttokens>=2.1.0 in /opt/conda/lib/python3.10/site-packages (from stack-data->ipython>=5.3.0->pyvis) (2.4.1)\r\n",
      "Requirement already satisfied: pure-eval in /opt/conda/lib/python3.10/site-packages (from stack-data->ipython>=5.3.0->pyvis) (0.2.2)\r\n",
      "Requirement already satisfied: six>=1.12.0 in /opt/conda/lib/python3.10/site-packages (from asttokens>=2.1.0->stack-data->ipython>=5.3.0->pyvis) (1.16.0)\r\n",
      "Downloading pyvis-0.3.2-py3-none-any.whl (756 kB)\r\n",
      "\u001b[2K   \u001b[90m━━━━━━━━━━━━━━━━━━━━━━━━━━━━━━━━━━━━━━━━\u001b[0m \u001b[32m756.0/756.0 kB\u001b[0m \u001b[31m19.1 MB/s\u001b[0m eta \u001b[36m0:00:00\u001b[0m\r\n",
      "\u001b[?25hDownloading jsonpickle-3.0.3-py3-none-any.whl (40 kB)\r\n",
      "\u001b[2K   \u001b[90m━━━━━━━━━━━━━━━━━━━━━━━━━━━━━━━━━━━━━━━━\u001b[0m \u001b[32m40.8/40.8 kB\u001b[0m \u001b[31m2.4 MB/s\u001b[0m eta \u001b[36m0:00:00\u001b[0m\r\n",
      "\u001b[?25hInstalling collected packages: jsonpickle, pyvis\r\n",
      "Successfully installed jsonpickle-3.0.3 pyvis-0.3.2\r\n",
      "Collecting biopython\r\n",
      "  Downloading biopython-1.83-cp310-cp310-manylinux_2_17_x86_64.manylinux2014_x86_64.whl.metadata (13 kB)\r\n",
      "Requirement already satisfied: numpy in /opt/conda/lib/python3.10/site-packages (from biopython) (1.26.4)\r\n",
      "Downloading biopython-1.83-cp310-cp310-manylinux_2_17_x86_64.manylinux2014_x86_64.whl (3.1 MB)\r\n",
      "\u001b[2K   \u001b[90m━━━━━━━━━━━━━━━━━━━━━━━━━━━━━━━━━━━━━━━━\u001b[0m \u001b[32m3.1/3.1 MB\u001b[0m \u001b[31m38.6 MB/s\u001b[0m eta \u001b[36m0:00:00\u001b[0m\r\n",
      "\u001b[?25hInstalling collected packages: biopython\r\n",
      "Successfully installed biopython-1.83\r\n"
     ]
    }
   ],
   "source": [
    "!pip install obonet\n",
    "!pip install pyvis\n",
    "!pip install biopython"
   ]
  },
  {
   "cell_type": "markdown",
   "id": "8e1dac56",
   "metadata": {
    "papermill": {
     "duration": 0.014019,
     "end_time": "2024-04-08T07:02:22.640399",
     "exception": false,
     "start_time": "2024-04-08T07:02:22.626380",
     "status": "completed"
    },
    "tags": []
   },
   "source": [
    "## About the Dataset\n",
    "\n",
    "### Protein Sequence\n",
    "\n",
    "Each protein is composed of dozens or hundreds of amino acids that are linked sequentially. Each amino acid in the sequence may be represented by a one-letter or three-letter code. Thus the sequence of a protein is often notated as a string of letters."
   ]
  },
  {
   "cell_type": "markdown",
   "id": "30db323e",
   "metadata": {
    "papermill": {
     "duration": 0.014888,
     "end_time": "2024-04-08T07:02:22.669639",
     "exception": false,
     "start_time": "2024-04-08T07:02:22.654751",
     "status": "completed"
    },
    "tags": []
   },
   "source": [
    "# Gene Ontology\n",
    "\n",
    "The functional properties of a proteins are defined by Gene Ontology(GO). Gene Ontology (GO) describes our understanding of the biological domain with respect to three aspects:\n",
    "1. Molecular Function (MF)\n",
    "2. Biological Process (BP)\n",
    "3. Cellular Component (CC)\n",
    "\n",
    "[Source](http://geneontology.org/docs/ontology-documentation)."
   ]
  },
  {
   "cell_type": "markdown",
   "id": "1dea9bd8",
   "metadata": {
    "papermill": {
     "duration": 0.013743,
     "end_time": "2024-04-08T07:02:22.697660",
     "exception": false,
     "start_time": "2024-04-08T07:02:22.683917",
     "status": "completed"
    },
    "tags": []
   },
   "source": [
    "# Dataset description\n",
    "\n",
    "`train_sequences.fasta` :  contains the sequences for proteins with annotations (labelled proteins).\n",
    "\n",
    "`train_terms.tsv` :  contains the list of annotated terms (ground truth) for the proteins in `train_sequences.fasta`. \n",
    "\n",
    "In `train_terms.tsv` the first column indicates the protein's UniProt accession ID (unique protein id), the second is the `GO Term ID`, and the third indicates in which ontology the term appears."
   ]
  },
  {
   "cell_type": "markdown",
   "id": "6f6f7871",
   "metadata": {
    "papermill": {
     "duration": 0.013848,
     "end_time": "2024-04-08T07:02:22.725598",
     "exception": false,
     "start_time": "2024-04-08T07:02:22.711750",
     "status": "completed"
    },
    "tags": []
   },
   "source": [
    "# Labels of the dataset\n",
    "\n",
    "The objective of our model is to predict the terms (functions) of a protein sequence. One protein sequence can have many functions and can thus be classified into any number of terms. Each term is uniquely identified by a `GO Term ID`. Thus our model has to predict all the `GO Term ID`s for a protein sequence. Hence this is a multi-label classification problem."
   ]
  },
  {
   "cell_type": "markdown",
   "id": "541eca2b",
   "metadata": {
    "papermill": {
     "duration": 0.014049,
     "end_time": "2024-04-08T07:02:22.753567",
     "exception": false,
     "start_time": "2024-04-08T07:02:22.739518",
     "status": "completed"
    },
    "tags": []
   },
   "source": [
    "# Protein embeddings for train and test data\n",
    "\n",
    "To train a machine learning model we cannot use the alphabetical protein sequences in`train_sequences.fasta` directly. They have to be converted into a vector format. Hence we've converted the alphabetical protein sequences into numerical vector embeddings first and then train the model.\n",
    "\n",
    "Protein sequences can be converted to vector embeddings using T5Tokenizer and T5Encoder from transformers available on hugging face. This results in a vector embedding of length 1024"
   ]
  },
  {
   "cell_type": "markdown",
   "id": "b76fb70e",
   "metadata": {
    "papermill": {
     "duration": 0.014502,
     "end_time": "2024-04-08T07:02:22.782345",
     "exception": false,
     "start_time": "2024-04-08T07:02:22.767843",
     "status": "completed"
    },
    "tags": []
   },
   "source": [
    "# Import the Required Libraries"
   ]
  },
  {
   "cell_type": "code",
   "execution_count": 2,
   "id": "e0c620e3",
   "metadata": {
    "execution": {
     "iopub.execute_input": "2024-04-08T07:02:22.812641Z",
     "iopub.status.busy": "2024-04-08T07:02:22.811911Z",
     "iopub.status.idle": "2024-04-08T07:02:36.867172Z",
     "shell.execute_reply": "2024-04-08T07:02:36.866380Z"
    },
    "papermill": {
     "duration": 14.073102,
     "end_time": "2024-04-08T07:02:36.869436",
     "exception": false,
     "start_time": "2024-04-08T07:02:22.796334",
     "status": "completed"
    },
    "tags": []
   },
   "outputs": [
    {
     "name": "stderr",
     "output_type": "stream",
     "text": [
      "2024-04-08 07:02:24.737503: E external/local_xla/xla/stream_executor/cuda/cuda_dnn.cc:9261] Unable to register cuDNN factory: Attempting to register factory for plugin cuDNN when one has already been registered\n",
      "2024-04-08 07:02:24.737634: E external/local_xla/xla/stream_executor/cuda/cuda_fft.cc:607] Unable to register cuFFT factory: Attempting to register factory for plugin cuFFT when one has already been registered\n",
      "2024-04-08 07:02:24.871890: E external/local_xla/xla/stream_executor/cuda/cuda_blas.cc:1515] Unable to register cuBLAS factory: Attempting to register factory for plugin cuBLAS when one has already been registered\n"
     ]
    }
   ],
   "source": [
    "import tensorflow as tf\n",
    "import pandas as pd\n",
    "import numpy as np\n",
    "import seaborn as sns\n",
    "import matplotlib.pyplot as plt\n",
    "import progressbar"
   ]
  },
  {
   "cell_type": "markdown",
   "id": "0eb99d88",
   "metadata": {
    "papermill": {
     "duration": 0.018743,
     "end_time": "2024-04-08T07:02:36.902926",
     "exception": false,
     "start_time": "2024-04-08T07:02:36.884183",
     "status": "completed"
    },
    "tags": []
   },
   "source": [
    "# Read the data"
   ]
  },
  {
   "cell_type": "code",
   "execution_count": 3,
   "id": "347a47d9",
   "metadata": {
    "execution": {
     "iopub.execute_input": "2024-04-08T07:02:36.932880Z",
     "iopub.status.busy": "2024-04-08T07:02:36.932315Z",
     "iopub.status.idle": "2024-04-08T07:02:41.262860Z",
     "shell.execute_reply": "2024-04-08T07:02:41.261786Z"
    },
    "papermill": {
     "duration": 4.34819,
     "end_time": "2024-04-08T07:02:41.265231",
     "exception": false,
     "start_time": "2024-04-08T07:02:36.917041",
     "status": "completed"
    },
    "tags": []
   },
   "outputs": [
    {
     "data": {
      "text/plain": [
       "(5363863, 3)"
      ]
     },
     "execution_count": 3,
     "metadata": {},
     "output_type": "execute_result"
    }
   ],
   "source": [
    "train_terms=pd.read_csv('/kaggle/input/cafa-5-protein-function-prediction/Train/train_terms.tsv', sep=\"\\t\")\n",
    "train_terms.head()\n",
    "train_terms.shape"
   ]
  },
  {
   "cell_type": "markdown",
   "id": "9c13171c",
   "metadata": {
    "papermill": {
     "duration": 0.014941,
     "end_time": "2024-04-08T07:02:41.295736",
     "exception": false,
     "start_time": "2024-04-08T07:02:41.280795",
     "status": "completed"
    },
    "tags": []
   },
   "source": [
    "# Calculating protein embeddings"
   ]
  },
  {
   "cell_type": "markdown",
   "id": "5368305e",
   "metadata": {
    "papermill": {
     "duration": 0.014585,
     "end_time": "2024-04-08T07:02:41.324802",
     "exception": false,
     "start_time": "2024-04-08T07:02:41.310217",
     "status": "completed"
    },
    "tags": []
   },
   "source": [
    "The folllowing code extracts the protein sequence from fasta file and extract embeddings of it using T5Tokenizer and T5Encoder imported from transformers. Each embedding is a vector of length 1024."
   ]
  },
  {
   "cell_type": "code",
   "execution_count": 4,
   "id": "def6b15d",
   "metadata": {
    "execution": {
     "iopub.execute_input": "2024-04-08T07:02:41.357258Z",
     "iopub.status.busy": "2024-04-08T07:02:41.356400Z",
     "iopub.status.idle": "2024-04-08T07:03:01.904272Z",
     "shell.execute_reply": "2024-04-08T07:03:01.903313Z"
    },
    "papermill": {
     "duration": 20.567151,
     "end_time": "2024-04-08T07:03:01.906483",
     "exception": false,
     "start_time": "2024-04-08T07:02:41.339332",
     "status": "completed"
    },
    "tags": []
   },
   "outputs": [
    {
     "data": {
      "application/vnd.jupyter.widget-view+json": {
       "model_id": "391bf753d3af406e9e94b79f5c117c27",
       "version_major": 2,
       "version_minor": 0
      },
      "text/plain": [
       "tokenizer_config.json:   0%|          | 0.00/25.0 [00:00<?, ?B/s]"
      ]
     },
     "metadata": {},
     "output_type": "display_data"
    },
    {
     "data": {
      "application/vnd.jupyter.widget-view+json": {
       "model_id": "b9f3ecb9baf74900b96b6fc20b7d58e2",
       "version_major": 2,
       "version_minor": 0
      },
      "text/plain": [
       "spiece.model:   0%|          | 0.00/238k [00:00<?, ?B/s]"
      ]
     },
     "metadata": {},
     "output_type": "display_data"
    },
    {
     "data": {
      "application/vnd.jupyter.widget-view+json": {
       "model_id": "e7ef14eacc744c2bb900c2bd9f4cf529",
       "version_major": 2,
       "version_minor": 0
      },
      "text/plain": [
       "special_tokens_map.json:   0%|          | 0.00/1.79k [00:00<?, ?B/s]"
      ]
     },
     "metadata": {},
     "output_type": "display_data"
    },
    {
     "data": {
      "application/vnd.jupyter.widget-view+json": {
       "model_id": "c3033671b7aa4bb18a82c09431148884",
       "version_major": 2,
       "version_minor": 0
      },
      "text/plain": [
       "config.json:   0%|          | 0.00/656 [00:00<?, ?B/s]"
      ]
     },
     "metadata": {},
     "output_type": "display_data"
    },
    {
     "name": "stderr",
     "output_type": "stream",
     "text": [
      "You are using the default legacy behaviour of the <class 'transformers.models.t5.tokenization_t5.T5Tokenizer'>. This is expected, and simply means that the `legacy` (previous) behavior will be used so nothing changes for you. If you want to use the new behaviour, set `legacy=False`. This should only be set if you understand what it means, and thoroughly read the reason why this was added as explained in https://github.com/huggingface/transformers/pull/24565\n"
     ]
    },
    {
     "data": {
      "application/vnd.jupyter.widget-view+json": {
       "model_id": "f294b19929ee4ff1816764048deb2cf1",
       "version_major": 2,
       "version_minor": 0
      },
      "text/plain": [
       "pytorch_model.bin:   0%|          | 0.00/2.42G [00:00<?, ?B/s]"
      ]
     },
     "metadata": {},
     "output_type": "display_data"
    },
    {
     "name": "stderr",
     "output_type": "stream",
     "text": [
      "/opt/conda/lib/python3.10/site-packages/torch/_utils.py:831: UserWarning: TypedStorage is deprecated. It will be removed in the future and UntypedStorage will be the only storage class. This should only matter to you if you are using storages directly.  To access UntypedStorage directly, use tensor.untyped_storage() instead of tensor.storage()\n",
      "  return self.fget.__get__(instance, owner)()\n"
     ]
    },
    {
     "name": "stdout",
     "output_type": "stream",
     "text": [
      "MNSVTVSHAPYTITYHDDWEPVMSQLVEFYNEVASWLLRDETSPIPDKFFIQLKQPLRNKRVCVCGIDPYPKDGTGVPFESPNFTKKSIKEIASSISRLTGVIDYKGYNLNIIDGVIPWNYYLSCKLGETKSHAIYWDKISKLLLQHITKHVSVLYCLGKTDFSNIRAKLESPVTTIVGYHPAARDRQFEKDRSFEIINVLLELDNKVPINWAQGFIY\n"
     ]
    }
   ],
   "source": [
    "import os\n",
    "import json\n",
    "from typing import Dict\n",
    "from collections import Counter\n",
    "\n",
    "import random\n",
    "import obonet\n",
    "import pandas as pd\n",
    "import numpy as np\n",
    "from Bio import SeqIO\n",
    "import re\n",
    "from transformers import T5Tokenizer, T5EncoderModel\n",
    "import torch\n",
    "device = torch.device('cuda:0' if torch.cuda.is_available() else 'cpu')\n",
    "\n",
    "# Load the tokenizer\n",
    "tokenizer = T5Tokenizer.from_pretrained('Rostlab/prot_t5_xl_half_uniref50-enc', do_lower_case=False) #.to(device)\n",
    "\n",
    "# Load the model\n",
    "model = T5EncoderModel.from_pretrained(\"Rostlab/prot_t5_xl_half_uniref50-enc\").to(device)\n",
    "\n",
    "def get_embeddings(seq):\n",
    "    sequence_examples = [\" \".join(list(re.sub(r\"[UZOB]\", \"X\", seq)))]\n",
    "\n",
    "    ids = tokenizer.batch_encode_plus(sequence_examples, add_special_tokens=True, padding=\"longest\")\n",
    "\n",
    "    input_ids = torch.tensor(ids['input_ids']).to(device)\n",
    "    attention_mask = torch.tensor(ids['attention_mask']).to(device)\n",
    "\n",
    "    # generate embeddings\n",
    "    with torch.no_grad():\n",
    "        embedding_repr = model(input_ids=input_ids,\n",
    "                               attention_mask=attention_mask)\n",
    "\n",
    "    # extract residue embeddings for the first ([0,:]) sequence in the batch and remove padded & special tokens ([0,:7]) \n",
    "    emb_0 = embedding_repr.last_hidden_state[0]\n",
    "    emb_0_per_protein = emb_0.mean(dim=0)\n",
    "    \n",
    "    return emb_0_per_protein\n",
    "\n",
    "file = '/kaggle/input/cafa-5-protein-function-prediction/Train/train_sequences.fasta'\n",
    "sequences = SeqIO.parse(file, \"fasta\")\n",
    "print(next(iter(sequences)).seq)"
   ]
  },
  {
   "cell_type": "code",
   "execution_count": 5,
   "id": "a3a670ef",
   "metadata": {
    "execution": {
     "iopub.execute_input": "2024-04-08T07:03:01.940103Z",
     "iopub.status.busy": "2024-04-08T07:03:01.938929Z",
     "iopub.status.idle": "2024-04-08T07:03:03.433787Z",
     "shell.execute_reply": "2024-04-08T07:03:03.432834Z"
    },
    "papermill": {
     "duration": 1.514366,
     "end_time": "2024-04-08T07:03:03.436696",
     "exception": false,
     "start_time": "2024-04-08T07:03:01.922330",
     "status": "completed"
    },
    "tags": []
   },
   "outputs": [
    {
     "data": {
      "text/plain": [
       "tensor([ 0.0495, -0.0329,  0.0325,  ..., -0.0435,  0.0965,  0.0731],\n",
       "       device='cuda:0')"
      ]
     },
     "execution_count": 5,
     "metadata": {},
     "output_type": "execute_result"
    }
   ],
   "source": [
    "sequences = SeqIO.parse(file, \"fasta\")\n",
    "get_embeddings(str(next(iter(sequences)).seq))"
   ]
  },
  {
   "cell_type": "markdown",
   "id": "1acf2e67",
   "metadata": {
    "papermill": {
     "duration": 0.024325,
     "end_time": "2024-04-08T07:03:03.484002",
     "exception": false,
     "start_time": "2024-04-08T07:03:03.459677",
     "status": "completed"
    },
    "tags": []
   },
   "source": [
    "# Loading the protein embeddings\n",
    "\n",
    "\n",
    "We can calculate the protein embeddings on our own, but the kaggle resources are not enough to collect embeddings for all the sequences in train dataset. So we are using the pre-calculated protein embeddings done by [Sergei Fironov](https://www.kaggle.com/sergeifironov) using the Rost Lab's T5 protein language model.\n",
    "\n",
    "If the `t5embeds` is not yet added to the input data of the notebook, it can be added by clicking on `Add Data` and search for `t5embeds` and then click on the `+` beside it.\n",
    "\n",
    "The protein embeddings to be used for training are recorded in `train_embeds.npy` and the corresponding protein ids are available in `train_ids.npy`."
   ]
  },
  {
   "cell_type": "markdown",
   "id": "6d52fed7",
   "metadata": {
    "papermill": {
     "duration": 0.016958,
     "end_time": "2024-04-08T07:03:03.527534",
     "exception": false,
     "start_time": "2024-04-08T07:03:03.510576",
     "status": "completed"
    },
    "tags": []
   },
   "source": [
    "We will load the protein ids of the protein embeddings in the train dataset contained in `train_ids.npy` into a numpy array."
   ]
  },
  {
   "cell_type": "code",
   "execution_count": 6,
   "id": "d2fc6362",
   "metadata": {
    "execution": {
     "iopub.execute_input": "2024-04-08T07:03:03.565673Z",
     "iopub.status.busy": "2024-04-08T07:03:03.564622Z",
     "iopub.status.idle": "2024-04-08T07:03:03.680616Z",
     "shell.execute_reply": "2024-04-08T07:03:03.679470Z"
    },
    "papermill": {
     "duration": 0.138115,
     "end_time": "2024-04-08T07:03:03.683135",
     "exception": false,
     "start_time": "2024-04-08T07:03:03.545020",
     "status": "completed"
    },
    "tags": []
   },
   "outputs": [
    {
     "data": {
      "text/html": [
       "<div>\n",
       "<style scoped>\n",
       "    .dataframe tbody tr th:only-of-type {\n",
       "        vertical-align: middle;\n",
       "    }\n",
       "\n",
       "    .dataframe tbody tr th {\n",
       "        vertical-align: top;\n",
       "    }\n",
       "\n",
       "    .dataframe thead th {\n",
       "        text-align: right;\n",
       "    }\n",
       "</style>\n",
       "<table border=\"1\" class=\"dataframe\">\n",
       "  <thead>\n",
       "    <tr style=\"text-align: right;\">\n",
       "      <th></th>\n",
       "      <th>0</th>\n",
       "    </tr>\n",
       "  </thead>\n",
       "  <tbody>\n",
       "    <tr>\n",
       "      <th>0</th>\n",
       "      <td>P20536</td>\n",
       "    </tr>\n",
       "    <tr>\n",
       "      <th>1</th>\n",
       "      <td>O73864</td>\n",
       "    </tr>\n",
       "    <tr>\n",
       "      <th>2</th>\n",
       "      <td>O95231</td>\n",
       "    </tr>\n",
       "    <tr>\n",
       "      <th>3</th>\n",
       "      <td>A0A0B4J1F4</td>\n",
       "    </tr>\n",
       "    <tr>\n",
       "      <th>4</th>\n",
       "      <td>P54366</td>\n",
       "    </tr>\n",
       "    <tr>\n",
       "      <th>...</th>\n",
       "      <td>...</td>\n",
       "    </tr>\n",
       "    <tr>\n",
       "      <th>95</th>\n",
       "      <td>A0A193H396</td>\n",
       "    </tr>\n",
       "    <tr>\n",
       "      <th>96</th>\n",
       "      <td>P57075</td>\n",
       "    </tr>\n",
       "    <tr>\n",
       "      <th>97</th>\n",
       "      <td>O22779</td>\n",
       "    </tr>\n",
       "    <tr>\n",
       "      <th>98</th>\n",
       "      <td>P57790</td>\n",
       "    </tr>\n",
       "    <tr>\n",
       "      <th>99</th>\n",
       "      <td>Q9Z288</td>\n",
       "    </tr>\n",
       "  </tbody>\n",
       "</table>\n",
       "<p>100 rows × 1 columns</p>\n",
       "</div>"
      ],
      "text/plain": [
       "             0\n",
       "0       P20536\n",
       "1       O73864\n",
       "2       O95231\n",
       "3   A0A0B4J1F4\n",
       "4       P54366\n",
       "..         ...\n",
       "95  A0A193H396\n",
       "96      P57075\n",
       "97      O22779\n",
       "98      P57790\n",
       "99      Q9Z288\n",
       "\n",
       "[100 rows x 1 columns]"
      ]
     },
     "execution_count": 6,
     "metadata": {},
     "output_type": "execute_result"
    }
   ],
   "source": [
    "train_protein_ids = np.load('/kaggle/input/t5embeds/train_ids.npy')\n",
    "train_protein_ids_pd=pd.DataFrame(train_protein_ids)\n",
    "train_protein_ids_pd.head(100)"
   ]
  },
  {
   "cell_type": "markdown",
   "id": "7b1c5d52",
   "metadata": {
    "papermill": {
     "duration": 0.022733,
     "end_time": "2024-04-08T07:03:03.727176",
     "exception": false,
     "start_time": "2024-04-08T07:03:03.704443",
     "status": "completed"
    },
    "tags": []
   },
   "source": [
    "<!-- Now, we will load`train_embeds.py` which contains the pre-calculated embeddings of the proteins in the train dataset. with protein_ids (`id`s we loaded previously from the **train_ids.npy**) into a numpy array. This array now contains the precalculated embeddings for the protein_ids( Ids we loaded above from **train_ids.npy**) needed for training. -->\n",
    "\n",
    "After loading the files as numpy arrays, we will convert them into Pandas dataframe.\n",
    "\n",
    "Each protein embedding is a vector of length 1024. We create the resulting dataframe such that there are 1024 columns to represent the values in each of the 1024 places in the vector."
   ]
  },
  {
   "cell_type": "code",
   "execution_count": 7,
   "id": "6c45206c",
   "metadata": {
    "execution": {
     "iopub.execute_input": "2024-04-08T07:03:03.770712Z",
     "iopub.status.busy": "2024-04-08T07:03:03.769481Z",
     "iopub.status.idle": "2024-04-08T07:03:20.694174Z",
     "shell.execute_reply": "2024-04-08T07:03:20.693257Z"
    },
    "papermill": {
     "duration": 16.947829,
     "end_time": "2024-04-08T07:03:20.696377",
     "exception": false,
     "start_time": "2024-04-08T07:03:03.748548",
     "status": "completed"
    },
    "tags": []
   },
   "outputs": [
    {
     "data": {
      "text/html": [
       "<div>\n",
       "<style scoped>\n",
       "    .dataframe tbody tr th:only-of-type {\n",
       "        vertical-align: middle;\n",
       "    }\n",
       "\n",
       "    .dataframe tbody tr th {\n",
       "        vertical-align: top;\n",
       "    }\n",
       "\n",
       "    .dataframe thead th {\n",
       "        text-align: right;\n",
       "    }\n",
       "</style>\n",
       "<table border=\"1\" class=\"dataframe\">\n",
       "  <thead>\n",
       "    <tr style=\"text-align: right;\">\n",
       "      <th></th>\n",
       "      <th>Column_1</th>\n",
       "      <th>Column_2</th>\n",
       "      <th>Column_3</th>\n",
       "      <th>Column_4</th>\n",
       "      <th>Column_5</th>\n",
       "      <th>Column_6</th>\n",
       "      <th>Column_7</th>\n",
       "      <th>Column_8</th>\n",
       "      <th>Column_9</th>\n",
       "      <th>Column_10</th>\n",
       "      <th>...</th>\n",
       "      <th>Column_1015</th>\n",
       "      <th>Column_1016</th>\n",
       "      <th>Column_1017</th>\n",
       "      <th>Column_1018</th>\n",
       "      <th>Column_1019</th>\n",
       "      <th>Column_1020</th>\n",
       "      <th>Column_1021</th>\n",
       "      <th>Column_1022</th>\n",
       "      <th>Column_1023</th>\n",
       "      <th>Column_1024</th>\n",
       "    </tr>\n",
       "  </thead>\n",
       "  <tbody>\n",
       "    <tr>\n",
       "      <th>0</th>\n",
       "      <td>0.049488</td>\n",
       "      <td>-0.032935</td>\n",
       "      <td>0.032473</td>\n",
       "      <td>-0.033723</td>\n",
       "      <td>-0.059505</td>\n",
       "      <td>0.075936</td>\n",
       "      <td>-0.045860</td>\n",
       "      <td>-0.104476</td>\n",
       "      <td>-0.072112</td>\n",
       "      <td>0.038806</td>\n",
       "      <td>...</td>\n",
       "      <td>-0.046516</td>\n",
       "      <td>-0.028773</td>\n",
       "      <td>-0.021878</td>\n",
       "      <td>-0.097883</td>\n",
       "      <td>0.056475</td>\n",
       "      <td>0.080950</td>\n",
       "      <td>-0.020938</td>\n",
       "      <td>-0.043532</td>\n",
       "      <td>0.096463</td>\n",
       "      <td>0.073070</td>\n",
       "    </tr>\n",
       "    <tr>\n",
       "      <th>1</th>\n",
       "      <td>-0.044616</td>\n",
       "      <td>0.064925</td>\n",
       "      <td>-0.080263</td>\n",
       "      <td>-0.075338</td>\n",
       "      <td>-0.004731</td>\n",
       "      <td>0.025408</td>\n",
       "      <td>-0.024685</td>\n",
       "      <td>-0.016568</td>\n",
       "      <td>-0.038980</td>\n",
       "      <td>-0.033870</td>\n",
       "      <td>...</td>\n",
       "      <td>-0.040173</td>\n",
       "      <td>0.003925</td>\n",
       "      <td>0.006130</td>\n",
       "      <td>0.007362</td>\n",
       "      <td>-0.066848</td>\n",
       "      <td>0.106882</td>\n",
       "      <td>-0.030134</td>\n",
       "      <td>0.026724</td>\n",
       "      <td>0.027879</td>\n",
       "      <td>-0.048430</td>\n",
       "    </tr>\n",
       "    <tr>\n",
       "      <th>2</th>\n",
       "      <td>-0.020128</td>\n",
       "      <td>-0.049779</td>\n",
       "      <td>0.007894</td>\n",
       "      <td>-0.000829</td>\n",
       "      <td>-0.047737</td>\n",
       "      <td>0.086453</td>\n",
       "      <td>-0.038107</td>\n",
       "      <td>-0.036379</td>\n",
       "      <td>0.029611</td>\n",
       "      <td>0.045029</td>\n",
       "      <td>...</td>\n",
       "      <td>0.029388</td>\n",
       "      <td>0.008456</td>\n",
       "      <td>0.000697</td>\n",
       "      <td>0.013502</td>\n",
       "      <td>-0.005968</td>\n",
       "      <td>-0.011571</td>\n",
       "      <td>0.005704</td>\n",
       "      <td>-0.036103</td>\n",
       "      <td>0.007693</td>\n",
       "      <td>0.106234</td>\n",
       "    </tr>\n",
       "    <tr>\n",
       "      <th>3</th>\n",
       "      <td>-0.007515</td>\n",
       "      <td>0.060628</td>\n",
       "      <td>0.004045</td>\n",
       "      <td>0.027056</td>\n",
       "      <td>-0.021542</td>\n",
       "      <td>0.010380</td>\n",
       "      <td>-0.025064</td>\n",
       "      <td>-0.055834</td>\n",
       "      <td>0.068238</td>\n",
       "      <td>0.027764</td>\n",
       "      <td>...</td>\n",
       "      <td>0.020792</td>\n",
       "      <td>0.023307</td>\n",
       "      <td>0.009009</td>\n",
       "      <td>0.018211</td>\n",
       "      <td>0.020820</td>\n",
       "      <td>-0.031738</td>\n",
       "      <td>0.013279</td>\n",
       "      <td>-0.018357</td>\n",
       "      <td>0.008087</td>\n",
       "      <td>0.010917</td>\n",
       "    </tr>\n",
       "    <tr>\n",
       "      <th>4</th>\n",
       "      <td>0.013468</td>\n",
       "      <td>0.041516</td>\n",
       "      <td>0.018435</td>\n",
       "      <td>-0.035595</td>\n",
       "      <td>0.008770</td>\n",
       "      <td>0.018699</td>\n",
       "      <td>-0.015452</td>\n",
       "      <td>-0.038092</td>\n",
       "      <td>-0.038326</td>\n",
       "      <td>-0.012299</td>\n",
       "      <td>...</td>\n",
       "      <td>-0.044742</td>\n",
       "      <td>-0.025432</td>\n",
       "      <td>-0.060886</td>\n",
       "      <td>-0.026915</td>\n",
       "      <td>0.026342</td>\n",
       "      <td>0.017237</td>\n",
       "      <td>0.014731</td>\n",
       "      <td>-0.016861</td>\n",
       "      <td>-0.016272</td>\n",
       "      <td>0.037054</td>\n",
       "    </tr>\n",
       "  </tbody>\n",
       "</table>\n",
       "<p>5 rows × 1024 columns</p>\n",
       "</div>"
      ],
      "text/plain": [
       "   Column_1  Column_2  Column_3  Column_4  Column_5  Column_6  Column_7  \\\n",
       "0  0.049488 -0.032935  0.032473 -0.033723 -0.059505  0.075936 -0.045860   \n",
       "1 -0.044616  0.064925 -0.080263 -0.075338 -0.004731  0.025408 -0.024685   \n",
       "2 -0.020128 -0.049779  0.007894 -0.000829 -0.047737  0.086453 -0.038107   \n",
       "3 -0.007515  0.060628  0.004045  0.027056 -0.021542  0.010380 -0.025064   \n",
       "4  0.013468  0.041516  0.018435 -0.035595  0.008770  0.018699 -0.015452   \n",
       "\n",
       "   Column_8  Column_9  Column_10  ...  Column_1015  Column_1016  Column_1017  \\\n",
       "0 -0.104476 -0.072112   0.038806  ...    -0.046516    -0.028773    -0.021878   \n",
       "1 -0.016568 -0.038980  -0.033870  ...    -0.040173     0.003925     0.006130   \n",
       "2 -0.036379  0.029611   0.045029  ...     0.029388     0.008456     0.000697   \n",
       "3 -0.055834  0.068238   0.027764  ...     0.020792     0.023307     0.009009   \n",
       "4 -0.038092 -0.038326  -0.012299  ...    -0.044742    -0.025432    -0.060886   \n",
       "\n",
       "   Column_1018  Column_1019  Column_1020  Column_1021  Column_1022  \\\n",
       "0    -0.097883     0.056475     0.080950    -0.020938    -0.043532   \n",
       "1     0.007362    -0.066848     0.106882    -0.030134     0.026724   \n",
       "2     0.013502    -0.005968    -0.011571     0.005704    -0.036103   \n",
       "3     0.018211     0.020820    -0.031738     0.013279    -0.018357   \n",
       "4    -0.026915     0.026342     0.017237     0.014731    -0.016861   \n",
       "\n",
       "   Column_1023  Column_1024  \n",
       "0     0.096463     0.073070  \n",
       "1     0.027879    -0.048430  \n",
       "2     0.007693     0.106234  \n",
       "3     0.008087     0.010917  \n",
       "4    -0.016272     0.037054  \n",
       "\n",
       "[5 rows x 1024 columns]"
      ]
     },
     "execution_count": 7,
     "metadata": {},
     "output_type": "execute_result"
    }
   ],
   "source": [
    "train_embeddings = np.load('/kaggle/input/t5embeds/train_embeds.npy')\n",
    "column_num = train_embeddings.shape[1]\n",
    "train_df  = pd.DataFrame(train_embeddings, columns = [\"Column_\" + str(i) for i in range(1, column_num+1)])\n",
    "train_df.head()"
   ]
  },
  {
   "cell_type": "markdown",
   "id": "5f8fdec3",
   "metadata": {
    "papermill": {
     "duration": 0.063107,
     "end_time": "2024-04-08T07:03:20.776427",
     "exception": false,
     "start_time": "2024-04-08T07:03:20.713320",
     "status": "completed"
    },
    "tags": []
   },
   "source": [
    "# Prepare the dataset"
   ]
  },
  {
   "cell_type": "markdown",
   "id": "7d505d20",
   "metadata": {
    "papermill": {
     "duration": 0.016109,
     "end_time": "2024-04-08T07:03:20.809160",
     "exception": false,
     "start_time": "2024-04-08T07:03:20.793051",
     "status": "completed"
    },
    "tags": []
   },
   "source": [
    "There are more than 40,000 labels in the `train_terms.tsv` file, so to simplify we will choose the most frequent 1500 `GO term IDs` as labels of the dataset."
   ]
  },
  {
   "cell_type": "code",
   "execution_count": 8,
   "id": "4cb42ce9",
   "metadata": {
    "execution": {
     "iopub.execute_input": "2024-04-08T07:03:20.843222Z",
     "iopub.status.busy": "2024-04-08T07:03:20.842830Z",
     "iopub.status.idle": "2024-04-08T07:03:21.767669Z",
     "shell.execute_reply": "2024-04-08T07:03:21.766720Z"
    },
    "papermill": {
     "duration": 0.94444,
     "end_time": "2024-04-08T07:03:21.769868",
     "exception": false,
     "start_time": "2024-04-08T07:03:20.825428",
     "status": "completed"
    },
    "tags": []
   },
   "outputs": [
    {
     "data": {
      "text/plain": [
       "Index(['GO:0005575', 'GO:0008150', 'GO:0110165', 'GO:0003674', 'GO:0005622',\n",
       "       'GO:0009987', 'GO:0043226', 'GO:0043229', 'GO:0005488', 'GO:0043227',\n",
       "       ...\n",
       "       'GO:0031345', 'GO:0140053', 'GO:0034250', 'GO:0098802', 'GO:0045861',\n",
       "       'GO:0001818', 'GO:0031674', 'GO:0051783', 'GO:0070828', 'GO:0016887'],\n",
       "      dtype='object', name='term', length=1500)"
      ]
     },
     "execution_count": 8,
     "metadata": {},
     "output_type": "execute_result"
    }
   ],
   "source": [
    "# Extracting Go IDs\n",
    "num_of_labels = 1500\n",
    "labels = train_terms['term'].value_counts().index\n",
    "labels=labels[:num_of_labels]\n",
    "labels"
   ]
  },
  {
   "cell_type": "code",
   "execution_count": 9,
   "id": "7e423f8b",
   "metadata": {
    "execution": {
     "iopub.execute_input": "2024-04-08T07:03:21.805565Z",
     "iopub.status.busy": "2024-04-08T07:03:21.804772Z",
     "iopub.status.idle": "2024-04-08T07:03:22.618909Z",
     "shell.execute_reply": "2024-04-08T07:03:22.617941Z"
    },
    "papermill": {
     "duration": 0.834383,
     "end_time": "2024-04-08T07:03:22.621224",
     "exception": false,
     "start_time": "2024-04-08T07:03:21.786841",
     "status": "completed"
    },
    "tags": []
   },
   "outputs": [
    {
     "data": {
      "text/html": [
       "<div>\n",
       "<style scoped>\n",
       "    .dataframe tbody tr th:only-of-type {\n",
       "        vertical-align: middle;\n",
       "    }\n",
       "\n",
       "    .dataframe tbody tr th {\n",
       "        vertical-align: top;\n",
       "    }\n",
       "\n",
       "    .dataframe thead th {\n",
       "        text-align: right;\n",
       "    }\n",
       "</style>\n",
       "<table border=\"1\" class=\"dataframe\">\n",
       "  <thead>\n",
       "    <tr style=\"text-align: right;\">\n",
       "      <th></th>\n",
       "      <th>EntryID</th>\n",
       "      <th>term</th>\n",
       "      <th>aspect</th>\n",
       "    </tr>\n",
       "  </thead>\n",
       "  <tbody>\n",
       "    <tr>\n",
       "      <th>0</th>\n",
       "      <td>A0A009IHW8</td>\n",
       "      <td>GO:0008152</td>\n",
       "      <td>BPO</td>\n",
       "    </tr>\n",
       "    <tr>\n",
       "      <th>1</th>\n",
       "      <td>A0A009IHW8</td>\n",
       "      <td>GO:0034655</td>\n",
       "      <td>BPO</td>\n",
       "    </tr>\n",
       "    <tr>\n",
       "      <th>2</th>\n",
       "      <td>A0A009IHW8</td>\n",
       "      <td>GO:0044270</td>\n",
       "      <td>BPO</td>\n",
       "    </tr>\n",
       "    <tr>\n",
       "      <th>3</th>\n",
       "      <td>A0A009IHW8</td>\n",
       "      <td>GO:0006753</td>\n",
       "      <td>BPO</td>\n",
       "    </tr>\n",
       "    <tr>\n",
       "      <th>4</th>\n",
       "      <td>A0A009IHW8</td>\n",
       "      <td>GO:0044237</td>\n",
       "      <td>BPO</td>\n",
       "    </tr>\n",
       "    <tr>\n",
       "      <th>...</th>\n",
       "      <td>...</td>\n",
       "      <td>...</td>\n",
       "      <td>...</td>\n",
       "    </tr>\n",
       "    <tr>\n",
       "      <th>4420732</th>\n",
       "      <td>X5L565</td>\n",
       "      <td>GO:0003674</td>\n",
       "      <td>MFO</td>\n",
       "    </tr>\n",
       "    <tr>\n",
       "      <th>4420733</th>\n",
       "      <td>X5L565</td>\n",
       "      <td>GO:0016491</td>\n",
       "      <td>MFO</td>\n",
       "    </tr>\n",
       "    <tr>\n",
       "      <th>4420734</th>\n",
       "      <td>X5M5N0</td>\n",
       "      <td>GO:0005515</td>\n",
       "      <td>MFO</td>\n",
       "    </tr>\n",
       "    <tr>\n",
       "      <th>4420735</th>\n",
       "      <td>X5M5N0</td>\n",
       "      <td>GO:0005488</td>\n",
       "      <td>MFO</td>\n",
       "    </tr>\n",
       "    <tr>\n",
       "      <th>4420736</th>\n",
       "      <td>X5M5N0</td>\n",
       "      <td>GO:0003674</td>\n",
       "      <td>MFO</td>\n",
       "    </tr>\n",
       "  </tbody>\n",
       "</table>\n",
       "<p>4420737 rows × 3 columns</p>\n",
       "</div>"
      ],
      "text/plain": [
       "            EntryID        term aspect\n",
       "0        A0A009IHW8  GO:0008152    BPO\n",
       "1        A0A009IHW8  GO:0034655    BPO\n",
       "2        A0A009IHW8  GO:0044270    BPO\n",
       "3        A0A009IHW8  GO:0006753    BPO\n",
       "4        A0A009IHW8  GO:0044237    BPO\n",
       "...             ...         ...    ...\n",
       "4420732      X5L565  GO:0003674    MFO\n",
       "4420733      X5L565  GO:0016491    MFO\n",
       "4420734      X5M5N0  GO:0005515    MFO\n",
       "4420735      X5M5N0  GO:0005488    MFO\n",
       "4420736      X5M5N0  GO:0003674    MFO\n",
       "\n",
       "[4420737 rows x 3 columns]"
      ]
     },
     "execution_count": 9,
     "metadata": {},
     "output_type": "execute_result"
    }
   ],
   "source": [
    "# Extracting the dataset which contains the top 1500(labels) GO terms\n",
    "train_terms_updated = train_terms.loc[train_terms['term'].isin(labels)]\n",
    "train_terms_updated=train_terms_updated.reset_index(drop=True)\n",
    "train_terms_updated"
   ]
  },
  {
   "cell_type": "markdown",
   "id": "7447ca79",
   "metadata": {
    "papermill": {
     "duration": 0.0168,
     "end_time": "2024-04-08T07:03:22.656780",
     "exception": false,
     "start_time": "2024-04-08T07:03:22.639980",
     "status": "completed"
    },
    "tags": []
   },
   "source": [
    "Plot the most frequent 100 `GO Term ID`s in `train_terms.tsv`."
   ]
  },
  {
   "cell_type": "code",
   "execution_count": 10,
   "id": "6fa0bd1e",
   "metadata": {
    "execution": {
     "iopub.execute_input": "2024-04-08T07:03:22.692853Z",
     "iopub.status.busy": "2024-04-08T07:03:22.692188Z",
     "iopub.status.idle": "2024-04-08T07:03:23.503517Z",
     "shell.execute_reply": "2024-04-08T07:03:23.502178Z"
    },
    "papermill": {
     "duration": 0.8333,
     "end_time": "2024-04-08T07:03:23.507394",
     "exception": false,
     "start_time": "2024-04-08T07:03:22.674094",
     "status": "completed"
    },
    "tags": []
   },
   "outputs": [
    {
     "data": {
      "image/png": "[encoded data removed]",
      "text/plain": [
       "<Figure size 640x480 with 1 Axes>"
      ]
     },
     "metadata": {},
     "output_type": "display_data"
    }
   ],
   "source": [
    "pie_df = train_terms_updated['aspect'].value_counts()\n",
    "palette_color = sns.color_palette('bright')\n",
    "plt.pie(pie_df.values, labels=np.array(pie_df.index), colors=palette_color, autopct='%.0f%%')\n",
    "plt.show()"
   ]
  },
  {
   "cell_type": "markdown",
   "id": "dee9f0ce",
   "metadata": {
    "papermill": {
     "duration": 0.034521,
     "end_time": "2024-04-08T07:03:23.582165",
     "exception": false,
     "start_time": "2024-04-08T07:03:23.547644",
     "status": "completed"
    },
    "tags": []
   },
   "source": [
    "As evident from the pie chart above, majority of the `GO term Id`s have their aspect as BPO(Biological Process Ontology). In the labels array, absence or presence of each `GO term Id` is denoted by 0 or 1."
   ]
  },
  {
   "cell_type": "markdown",
   "id": "7cdf00f3",
   "metadata": {
    "papermill": {
     "duration": 0.016586,
     "end_time": "2024-04-08T07:03:23.616189",
     "exception": false,
     "start_time": "2024-04-08T07:03:23.599603",
     "status": "completed"
    },
    "tags": []
   },
   "source": [
    "Uncomment the next 2 cells if labels are not already available in the datasets directory"
   ]
  },
  {
   "cell_type": "code",
   "execution_count": 11,
   "id": "cbebf99c",
   "metadata": {
    "execution": {
     "iopub.execute_input": "2024-04-08T07:03:23.651567Z",
     "iopub.status.busy": "2024-04-08T07:03:23.651193Z",
     "iopub.status.idle": "2024-04-08T07:03:23.656051Z",
     "shell.execute_reply": "2024-04-08T07:03:23.655115Z"
    },
    "papermill": {
     "duration": 0.025525,
     "end_time": "2024-04-08T07:03:23.658372",
     "exception": false,
     "start_time": "2024-04-08T07:03:23.632847",
     "status": "completed"
    },
    "tags": []
   },
   "outputs": [],
   "source": [
    "# train_size = train_protein_ids.shape[0]\n",
    "# train_labels = np.zeros((train_size ,num_of_labels))\n",
    "# series_train_protein_ids = pd.Series(train_protein_ids)\n",
    "\n",
    "# bar = progressbar.ProgressBar(maxval=num_of_labels, widgets=[progressbar.Bar('=', '[', ']'), ' ', progressbar.Percentage()])\n",
    "# for i in range(num_of_labels):\n",
    "#     n_train_terms = train_terms_updated[train_terms_updated['term'] ==  labels[i]]\n",
    "#     label_related_proteins = n_train_terms['EntryID'].unique()\n",
    "#     train_labels[:,i] =  series_train_protein_ids.isin(label_related_proteins).astype(float)\n",
    "#     bar.update(i+1)\n",
    "# bar.finish()\n",
    "\n",
    "# labels_df = pd.DataFrame(data = train_labels, columns = labels)\n",
    "# print(labels_df.shape)"
   ]
  },
  {
   "cell_type": "markdown",
   "id": "ffe721d0",
   "metadata": {
    "papermill": {
     "duration": 0.017487,
     "end_time": "2024-04-08T07:03:23.693959",
     "exception": false,
     "start_time": "2024-04-08T07:03:23.676472",
     "status": "completed"
    },
    "tags": []
   },
   "source": [
    "`label_df` is composed of 1500 columns and 142246 entries."
   ]
  },
  {
   "cell_type": "code",
   "execution_count": 12,
   "id": "309136d2",
   "metadata": {
    "execution": {
     "iopub.execute_input": "2024-04-08T07:03:23.730712Z",
     "iopub.status.busy": "2024-04-08T07:03:23.730380Z",
     "iopub.status.idle": "2024-04-08T07:03:23.734623Z",
     "shell.execute_reply": "2024-04-08T07:03:23.733652Z"
    },
    "papermill": {
     "duration": 0.025237,
     "end_time": "2024-04-08T07:03:23.736667",
     "exception": false,
     "start_time": "2024-04-08T07:03:23.711430",
     "status": "completed"
    },
    "tags": []
   },
   "outputs": [],
   "source": [
    "# #!mkdir /kaggle/working/labels\n",
    "# labels_df = pd.DataFrame(data = train_labels, columns = labels)\n",
    "# labels_df.to_csv('/kaggle/working/labels/kaggledata.csv')"
   ]
  },
  {
   "cell_type": "markdown",
   "id": "10ff4923",
   "metadata": {
    "papermill": {
     "duration": 0.017177,
     "end_time": "2024-04-08T07:03:23.771023",
     "exception": false,
     "start_time": "2024-04-08T07:03:23.753846",
     "status": "completed"
    },
    "tags": []
   },
   "source": [
    "Run the next cell only if labels are already available in the datasets directory"
   ]
  },
  {
   "cell_type": "code",
   "execution_count": 13,
   "id": "0351f4bf",
   "metadata": {
    "execution": {
     "iopub.execute_input": "2024-04-08T07:03:23.806951Z",
     "iopub.status.busy": "2024-04-08T07:03:23.806266Z",
     "iopub.status.idle": "2024-04-08T07:04:03.551273Z",
     "shell.execute_reply": "2024-04-08T07:04:03.550242Z"
    },
    "papermill": {
     "duration": 39.765587,
     "end_time": "2024-04-08T07:04:03.553721",
     "exception": false,
     "start_time": "2024-04-08T07:03:23.788134",
     "status": "completed"
    },
    "tags": []
   },
   "outputs": [],
   "source": [
    "labels_df=pd.read_csv('/kaggle/input/labels/kaggledata.csv')\n",
    "labels_df=labels_df.drop(columns='Unnamed: 0')"
   ]
  },
  {
   "cell_type": "code",
   "execution_count": 14,
   "id": "b49a59e6",
   "metadata": {
    "execution": {
     "iopub.execute_input": "2024-04-08T07:04:03.589603Z",
     "iopub.status.busy": "2024-04-08T07:04:03.589294Z",
     "iopub.status.idle": "2024-04-08T07:04:03.595256Z",
     "shell.execute_reply": "2024-04-08T07:04:03.594402Z"
    },
    "papermill": {
     "duration": 0.025908,
     "end_time": "2024-04-08T07:04:03.597134",
     "exception": false,
     "start_time": "2024-04-08T07:04:03.571226",
     "status": "completed"
    },
    "tags": []
   },
   "outputs": [
    {
     "data": {
      "text/plain": [
       "(142246, 1500)"
      ]
     },
     "execution_count": 14,
     "metadata": {},
     "output_type": "execute_result"
    }
   ],
   "source": [
    "labels_df.shape"
   ]
  },
  {
   "cell_type": "code",
   "execution_count": 15,
   "id": "513d9e5c",
   "metadata": {
    "execution": {
     "iopub.execute_input": "2024-04-08T07:04:03.632503Z",
     "iopub.status.busy": "2024-04-08T07:04:03.631785Z",
     "iopub.status.idle": "2024-04-08T07:04:03.663052Z",
     "shell.execute_reply": "2024-04-08T07:04:03.661989Z"
    },
    "papermill": {
     "duration": 0.050861,
     "end_time": "2024-04-08T07:04:03.665061",
     "exception": false,
     "start_time": "2024-04-08T07:04:03.614200",
     "status": "completed"
    },
    "tags": []
   },
   "outputs": [
    {
     "data": {
      "text/html": [
       "<div>\n",
       "<style scoped>\n",
       "    .dataframe tbody tr th:only-of-type {\n",
       "        vertical-align: middle;\n",
       "    }\n",
       "\n",
       "    .dataframe tbody tr th {\n",
       "        vertical-align: top;\n",
       "    }\n",
       "\n",
       "    .dataframe thead th {\n",
       "        text-align: right;\n",
       "    }\n",
       "</style>\n",
       "<table border=\"1\" class=\"dataframe\">\n",
       "  <thead>\n",
       "    <tr style=\"text-align: right;\">\n",
       "      <th></th>\n",
       "      <th>GO:0005575</th>\n",
       "      <th>GO:0008150</th>\n",
       "      <th>GO:0110165</th>\n",
       "      <th>GO:0003674</th>\n",
       "      <th>GO:0005622</th>\n",
       "      <th>GO:0009987</th>\n",
       "      <th>GO:0043226</th>\n",
       "      <th>GO:0043229</th>\n",
       "      <th>GO:0005488</th>\n",
       "      <th>GO:0043227</th>\n",
       "      <th>...</th>\n",
       "      <th>GO:0031345</th>\n",
       "      <th>GO:0140053</th>\n",
       "      <th>GO:0034250</th>\n",
       "      <th>GO:0098802</th>\n",
       "      <th>GO:0045861</th>\n",
       "      <th>GO:0001818</th>\n",
       "      <th>GO:0031674</th>\n",
       "      <th>GO:0051783</th>\n",
       "      <th>GO:0070828</th>\n",
       "      <th>GO:0016887</th>\n",
       "    </tr>\n",
       "  </thead>\n",
       "  <tbody>\n",
       "    <tr>\n",
       "      <th>0</th>\n",
       "      <td>0.0</td>\n",
       "      <td>1.0</td>\n",
       "      <td>0.0</td>\n",
       "      <td>1.0</td>\n",
       "      <td>0.0</td>\n",
       "      <td>1.0</td>\n",
       "      <td>0.0</td>\n",
       "      <td>0.0</td>\n",
       "      <td>1.0</td>\n",
       "      <td>0.0</td>\n",
       "      <td>...</td>\n",
       "      <td>0.0</td>\n",
       "      <td>0.0</td>\n",
       "      <td>0.0</td>\n",
       "      <td>0.0</td>\n",
       "      <td>0.0</td>\n",
       "      <td>0.0</td>\n",
       "      <td>0.0</td>\n",
       "      <td>0.0</td>\n",
       "      <td>0.0</td>\n",
       "      <td>0.0</td>\n",
       "    </tr>\n",
       "    <tr>\n",
       "      <th>1</th>\n",
       "      <td>1.0</td>\n",
       "      <td>1.0</td>\n",
       "      <td>1.0</td>\n",
       "      <td>1.0</td>\n",
       "      <td>0.0</td>\n",
       "      <td>1.0</td>\n",
       "      <td>0.0</td>\n",
       "      <td>0.0</td>\n",
       "      <td>1.0</td>\n",
       "      <td>0.0</td>\n",
       "      <td>...</td>\n",
       "      <td>0.0</td>\n",
       "      <td>0.0</td>\n",
       "      <td>0.0</td>\n",
       "      <td>0.0</td>\n",
       "      <td>0.0</td>\n",
       "      <td>0.0</td>\n",
       "      <td>0.0</td>\n",
       "      <td>0.0</td>\n",
       "      <td>0.0</td>\n",
       "      <td>0.0</td>\n",
       "    </tr>\n",
       "    <tr>\n",
       "      <th>2</th>\n",
       "      <td>1.0</td>\n",
       "      <td>1.0</td>\n",
       "      <td>1.0</td>\n",
       "      <td>1.0</td>\n",
       "      <td>1.0</td>\n",
       "      <td>0.0</td>\n",
       "      <td>1.0</td>\n",
       "      <td>1.0</td>\n",
       "      <td>1.0</td>\n",
       "      <td>1.0</td>\n",
       "      <td>...</td>\n",
       "      <td>0.0</td>\n",
       "      <td>0.0</td>\n",
       "      <td>0.0</td>\n",
       "      <td>0.0</td>\n",
       "      <td>0.0</td>\n",
       "      <td>0.0</td>\n",
       "      <td>0.0</td>\n",
       "      <td>0.0</td>\n",
       "      <td>0.0</td>\n",
       "      <td>0.0</td>\n",
       "    </tr>\n",
       "    <tr>\n",
       "      <th>3</th>\n",
       "      <td>1.0</td>\n",
       "      <td>1.0</td>\n",
       "      <td>1.0</td>\n",
       "      <td>1.0</td>\n",
       "      <td>0.0</td>\n",
       "      <td>1.0</td>\n",
       "      <td>1.0</td>\n",
       "      <td>0.0</td>\n",
       "      <td>0.0</td>\n",
       "      <td>1.0</td>\n",
       "      <td>...</td>\n",
       "      <td>0.0</td>\n",
       "      <td>0.0</td>\n",
       "      <td>0.0</td>\n",
       "      <td>0.0</td>\n",
       "      <td>0.0</td>\n",
       "      <td>0.0</td>\n",
       "      <td>0.0</td>\n",
       "      <td>0.0</td>\n",
       "      <td>0.0</td>\n",
       "      <td>0.0</td>\n",
       "    </tr>\n",
       "    <tr>\n",
       "      <th>4</th>\n",
       "      <td>1.0</td>\n",
       "      <td>0.0</td>\n",
       "      <td>1.0</td>\n",
       "      <td>1.0</td>\n",
       "      <td>1.0</td>\n",
       "      <td>0.0</td>\n",
       "      <td>1.0</td>\n",
       "      <td>1.0</td>\n",
       "      <td>1.0</td>\n",
       "      <td>1.0</td>\n",
       "      <td>...</td>\n",
       "      <td>0.0</td>\n",
       "      <td>0.0</td>\n",
       "      <td>0.0</td>\n",
       "      <td>0.0</td>\n",
       "      <td>0.0</td>\n",
       "      <td>0.0</td>\n",
       "      <td>0.0</td>\n",
       "      <td>0.0</td>\n",
       "      <td>0.0</td>\n",
       "      <td>0.0</td>\n",
       "    </tr>\n",
       "  </tbody>\n",
       "</table>\n",
       "<p>5 rows × 1500 columns</p>\n",
       "</div>"
      ],
      "text/plain": [
       "   GO:0005575  GO:0008150  GO:0110165  GO:0003674  GO:0005622  GO:0009987  \\\n",
       "0         0.0         1.0         0.0         1.0         0.0         1.0   \n",
       "1         1.0         1.0         1.0         1.0         0.0         1.0   \n",
       "2         1.0         1.0         1.0         1.0         1.0         0.0   \n",
       "3         1.0         1.0         1.0         1.0         0.0         1.0   \n",
       "4         1.0         0.0         1.0         1.0         1.0         0.0   \n",
       "\n",
       "   GO:0043226  GO:0043229  GO:0005488  GO:0043227  ...  GO:0031345  \\\n",
       "0         0.0         0.0         1.0         0.0  ...         0.0   \n",
       "1         0.0         0.0         1.0         0.0  ...         0.0   \n",
       "2         1.0         1.0         1.0         1.0  ...         0.0   \n",
       "3         1.0         0.0         0.0         1.0  ...         0.0   \n",
       "4         1.0         1.0         1.0         1.0  ...         0.0   \n",
       "\n",
       "   GO:0140053  GO:0034250  GO:0098802  GO:0045861  GO:0001818  GO:0031674  \\\n",
       "0         0.0         0.0         0.0         0.0         0.0         0.0   \n",
       "1         0.0         0.0         0.0         0.0         0.0         0.0   \n",
       "2         0.0         0.0         0.0         0.0         0.0         0.0   \n",
       "3         0.0         0.0         0.0         0.0         0.0         0.0   \n",
       "4         0.0         0.0         0.0         0.0         0.0         0.0   \n",
       "\n",
       "   GO:0051783  GO:0070828  GO:0016887  \n",
       "0         0.0         0.0         0.0  \n",
       "1         0.0         0.0         0.0  \n",
       "2         0.0         0.0         0.0  \n",
       "3         0.0         0.0         0.0  \n",
       "4         0.0         0.0         0.0  \n",
       "\n",
       "[5 rows x 1500 columns]"
      ]
     },
     "execution_count": 15,
     "metadata": {},
     "output_type": "execute_result"
    }
   ],
   "source": [
    "labels_df.head()"
   ]
  },
  {
   "cell_type": "markdown",
   "id": "43fa2f14",
   "metadata": {
    "papermill": {
     "duration": 0.018101,
     "end_time": "2024-04-08T07:04:03.701605",
     "exception": false,
     "start_time": "2024-04-08T07:04:03.683504",
     "status": "completed"
    },
    "tags": []
   },
   "source": [
    "# Training\n",
    "\n",
    "We will use Tensorflow to train a Deep Neural Network with the protein embeddings to perform mult-label classification."
   ]
  },
  {
   "cell_type": "code",
   "execution_count": 16,
   "id": "b17ca311",
   "metadata": {
    "execution": {
     "iopub.execute_input": "2024-04-08T07:04:03.738239Z",
     "iopub.status.busy": "2024-04-08T07:04:03.737866Z",
     "iopub.status.idle": "2024-04-08T07:04:03.743782Z",
     "shell.execute_reply": "2024-04-08T07:04:03.742921Z"
    },
    "papermill": {
     "duration": 0.026544,
     "end_time": "2024-04-08T07:04:03.745615",
     "exception": false,
     "start_time": "2024-04-08T07:04:03.719071",
     "status": "completed"
    },
    "tags": []
   },
   "outputs": [
    {
     "data": {
      "text/plain": [
       "(142246, 1024)"
      ]
     },
     "execution_count": 16,
     "metadata": {},
     "output_type": "execute_result"
    }
   ],
   "source": [
    "train_df.shape"
   ]
  },
  {
   "cell_type": "code",
   "execution_count": 17,
   "id": "48107f21",
   "metadata": {
    "execution": {
     "iopub.execute_input": "2024-04-08T07:04:03.782973Z",
     "iopub.status.busy": "2024-04-08T07:04:03.782626Z",
     "iopub.status.idle": "2024-04-08T07:04:03.788349Z",
     "shell.execute_reply": "2024-04-08T07:04:03.787493Z"
    },
    "papermill": {
     "duration": 0.026834,
     "end_time": "2024-04-08T07:04:03.790420",
     "exception": false,
     "start_time": "2024-04-08T07:04:03.763586",
     "status": "completed"
    },
    "tags": []
   },
   "outputs": [
    {
     "data": {
      "text/plain": [
       "(142246, 1500)"
      ]
     },
     "execution_count": 17,
     "metadata": {},
     "output_type": "execute_result"
    }
   ],
   "source": [
    "labels_df.shape"
   ]
  },
  {
   "cell_type": "code",
   "execution_count": 18,
   "id": "567fc7a1",
   "metadata": {
    "execution": {
     "iopub.execute_input": "2024-04-08T07:04:03.828633Z",
     "iopub.status.busy": "2024-04-08T07:04:03.827777Z",
     "iopub.status.idle": "2024-04-08T07:05:04.671732Z",
     "shell.execute_reply": "2024-04-08T07:05:04.670596Z"
    },
    "papermill": {
     "duration": 60.865728,
     "end_time": "2024-04-08T07:05:04.674351",
     "exception": false,
     "start_time": "2024-04-08T07:04:03.808623",
     "status": "completed"
    },
    "tags": []
   },
   "outputs": [
    {
     "name": "stderr",
     "output_type": "stream",
     "text": [
      "/opt/conda/lib/python3.10/site-packages/keras/src/layers/normalization/batch_normalization.py:143: UserWarning: Do not pass an `input_shape`/`input_dim` argument to a layer. When using Sequential models, prefer using an `Input(shape)` object as the first layer in the model instead.\n",
      "  super().__init__(**kwargs)\n"
     ]
    },
    {
     "name": "stdout",
     "output_type": "stream",
     "text": [
      "Epoch 1/20\n",
      "\u001b[1m 3/23\u001b[0m \u001b[32m━━\u001b[0m\u001b[37m━━━━━━━━━━━━━━━━━━\u001b[0m \u001b[1m1s\u001b[0m 55ms/step - auc: 0.5239 - binary_accuracy: 0.5772 - loss: 0.6757"
     ]
    },
    {
     "name": "stderr",
     "output_type": "stream",
     "text": [
      "WARNING: All log messages before absl::InitializeLog() is called are written to STDERR\n",
      "I0000 00:00:1712559857.148531      91 device_compiler.h:186] Compiled cluster using XLA!  This line is logged at most once for the lifetime of the process.\n",
      "W0000 00:00:1712559857.166060      91 graph_launch.cc:671] Fallback to op-by-op mode because memset node breaks graph update\n"
     ]
    },
    {
     "name": "stdout",
     "output_type": "stream",
     "text": [
      "\u001b[1m23/23\u001b[0m \u001b[32m━━━━━━━━━━━━━━━━━━━━\u001b[0m\u001b[37m\u001b[0m \u001b[1m0s\u001b[0m 274ms/step - auc: 0.5845 - binary_accuracy: 0.8345 - loss: 0.3769"
     ]
    },
    {
     "name": "stderr",
     "output_type": "stream",
     "text": [
      "W0000 00:00:1712559863.215756      91 graph_launch.cc:671] Fallback to op-by-op mode because memset node breaks graph update\n"
     ]
    },
    {
     "name": "stdout",
     "output_type": "stream",
     "text": [
      "\u001b[1m23/23\u001b[0m \u001b[32m━━━━━━━━━━━━━━━━━━━━\u001b[0m\u001b[37m\u001b[0m \u001b[1m17s\u001b[0m 409ms/step - auc: 0.5875 - binary_accuracy: 0.8383 - loss: 0.3703 - val_auc: 0.8390 - val_binary_accuracy: 0.9800 - val_loss: 0.5725\n",
      "Epoch 2/20\n",
      "\u001b[1m 1/23\u001b[0m \u001b[37m━━━━━━━━━━━━━━━━━━━━\u001b[0m \u001b[1m2s\u001b[0m 125ms/step - auc: 0.8242 - binary_accuracy: 0.9795 - loss: 0.0906"
     ]
    },
    {
     "name": "stderr",
     "output_type": "stream",
     "text": [
      "W0000 00:00:1712559866.178083      93 graph_launch.cc:671] Fallback to op-by-op mode because memset node breaks graph update\n"
     ]
    },
    {
     "name": "stdout",
     "output_type": "stream",
     "text": [
      "\u001b[1m23/23\u001b[0m \u001b[32m━━━━━━━━━━━━━━━━━━━━\u001b[0m\u001b[37m\u001b[0m \u001b[1m1s\u001b[0m 53ms/step - auc: 0.8111 - binary_accuracy: 0.9796 - loss: 0.0855 - val_auc: 0.8335 - val_binary_accuracy: 0.9801 - val_loss: 0.5435\n",
      "Epoch 3/20\n",
      "\u001b[1m23/23\u001b[0m \u001b[32m━━━━━━━━━━━━━━━━━━━━\u001b[0m\u001b[37m\u001b[0m \u001b[1m1s\u001b[0m 54ms/step - auc: 0.8282 - binary_accuracy: 0.9798 - loss: 0.0787 - val_auc: 0.8480 - val_binary_accuracy: 0.9801 - val_loss: 0.5261\n",
      "Epoch 4/20\n",
      "\u001b[1m23/23\u001b[0m \u001b[32m━━━━━━━━━━━━━━━━━━━━\u001b[0m\u001b[37m\u001b[0m \u001b[1m1s\u001b[0m 53ms/step - auc: 0.8439 - binary_accuracy: 0.9800 - loss: 0.0765 - val_auc: 0.8602 - val_binary_accuracy: 0.9803 - val_loss: 0.5107\n",
      "Epoch 5/20\n",
      "\u001b[1m23/23\u001b[0m \u001b[32m━━━━━━━━━━━━━━━━━━━━\u001b[0m\u001b[37m\u001b[0m \u001b[1m1s\u001b[0m 54ms/step - auc: 0.8581 - binary_accuracy: 0.9801 - loss: 0.0741 - val_auc: 0.8820 - val_binary_accuracy: 0.9805 - val_loss: 0.4892\n",
      "Epoch 6/20\n",
      "\u001b[1m23/23\u001b[0m \u001b[32m━━━━━━━━━━━━━━━━━━━━\u001b[0m\u001b[37m\u001b[0m \u001b[1m1s\u001b[0m 52ms/step - auc: 0.8756 - binary_accuracy: 0.9802 - loss: 0.0715 - val_auc: 0.8974 - val_binary_accuracy: 0.9805 - val_loss: 0.4650\n",
      "Epoch 7/20\n",
      "\u001b[1m23/23\u001b[0m \u001b[32m━━━━━━━━━━━━━━━━━━━━\u001b[0m\u001b[37m\u001b[0m \u001b[1m1s\u001b[0m 52ms/step - auc: 0.8878 - binary_accuracy: 0.9803 - loss: 0.0697 - val_auc: 0.9057 - val_binary_accuracy: 0.9807 - val_loss: 0.4391\n",
      "Epoch 8/20\n",
      "\u001b[1m23/23\u001b[0m \u001b[32m━━━━━━━━━━━━━━━━━━━━\u001b[0m\u001b[37m\u001b[0m \u001b[1m1s\u001b[0m 52ms/step - auc: 0.8961 - binary_accuracy: 0.9805 - loss: 0.0682 - val_auc: 0.9132 - val_binary_accuracy: 0.9807 - val_loss: 0.4152\n",
      "Epoch 9/20\n",
      "\u001b[1m23/23\u001b[0m \u001b[32m━━━━━━━━━━━━━━━━━━━━\u001b[0m\u001b[37m\u001b[0m \u001b[1m1s\u001b[0m 53ms/step - auc: 0.9024 - binary_accuracy: 0.9806 - loss: 0.0668 - val_auc: 0.9182 - val_binary_accuracy: 0.9808 - val_loss: 0.3905\n",
      "Epoch 10/20\n",
      "\u001b[1m23/23\u001b[0m \u001b[32m━━━━━━━━━━━━━━━━━━━━\u001b[0m\u001b[37m\u001b[0m \u001b[1m1s\u001b[0m 54ms/step - auc: 0.9075 - binary_accuracy: 0.9807 - loss: 0.0658 - val_auc: 0.9224 - val_binary_accuracy: 0.9809 - val_loss: 0.3612\n",
      "Epoch 11/20\n",
      "\u001b[1m23/23\u001b[0m \u001b[32m━━━━━━━━━━━━━━━━━━━━\u001b[0m\u001b[37m\u001b[0m \u001b[1m1s\u001b[0m 54ms/step - auc: 0.9115 - binary_accuracy: 0.9808 - loss: 0.0649 - val_auc: 0.9253 - val_binary_accuracy: 0.9809 - val_loss: 0.3404\n",
      "Epoch 12/20\n",
      "\u001b[1m23/23\u001b[0m \u001b[32m━━━━━━━━━━━━━━━━━━━━\u001b[0m\u001b[37m\u001b[0m \u001b[1m1s\u001b[0m 53ms/step - auc: 0.9146 - binary_accuracy: 0.9808 - loss: 0.0643 - val_auc: 0.9275 - val_binary_accuracy: 0.9810 - val_loss: 0.3105\n",
      "Epoch 13/20\n",
      "\u001b[1m23/23\u001b[0m \u001b[32m━━━━━━━━━━━━━━━━━━━━\u001b[0m\u001b[37m\u001b[0m \u001b[1m1s\u001b[0m 54ms/step - auc: 0.9171 - binary_accuracy: 0.9809 - loss: 0.0635 - val_auc: 0.9293 - val_binary_accuracy: 0.9810 - val_loss: 0.2845\n",
      "Epoch 14/20\n",
      "\u001b[1m23/23\u001b[0m \u001b[32m━━━━━━━━━━━━━━━━━━━━\u001b[0m\u001b[37m\u001b[0m \u001b[1m1s\u001b[0m 53ms/step - auc: 0.9197 - binary_accuracy: 0.9809 - loss: 0.0629 - val_auc: 0.9312 - val_binary_accuracy: 0.9811 - val_loss: 0.2616\n",
      "Epoch 15/20\n",
      "\u001b[1m23/23\u001b[0m \u001b[32m━━━━━━━━━━━━━━━━━━━━\u001b[0m\u001b[37m\u001b[0m \u001b[1m1s\u001b[0m 55ms/step - auc: 0.9217 - binary_accuracy: 0.9810 - loss: 0.0624 - val_auc: 0.9325 - val_binary_accuracy: 0.9811 - val_loss: 0.2357\n",
      "Epoch 16/20\n",
      "\u001b[1m23/23\u001b[0m \u001b[32m━━━━━━━━━━━━━━━━━━━━\u001b[0m\u001b[37m\u001b[0m \u001b[1m1s\u001b[0m 56ms/step - auc: 0.9238 - binary_accuracy: 0.9811 - loss: 0.0618 - val_auc: 0.9337 - val_binary_accuracy: 0.9811 - val_loss: 0.2165\n",
      "Epoch 17/20\n",
      "\u001b[1m23/23\u001b[0m \u001b[32m━━━━━━━━━━━━━━━━━━━━\u001b[0m\u001b[37m\u001b[0m \u001b[1m1s\u001b[0m 57ms/step - auc: 0.9255 - binary_accuracy: 0.9811 - loss: 0.0615 - val_auc: 0.9346 - val_binary_accuracy: 0.9812 - val_loss: 0.1935\n",
      "Epoch 18/20\n",
      "\u001b[1m23/23\u001b[0m \u001b[32m━━━━━━━━━━━━━━━━━━━━\u001b[0m\u001b[37m\u001b[0m \u001b[1m1s\u001b[0m 56ms/step - auc: 0.9270 - binary_accuracy: 0.9812 - loss: 0.0608 - val_auc: 0.9357 - val_binary_accuracy: 0.9812 - val_loss: 0.1725\n",
      "Epoch 19/20\n",
      "\u001b[1m23/23\u001b[0m \u001b[32m━━━━━━━━━━━━━━━━━━━━\u001b[0m\u001b[37m\u001b[0m \u001b[1m1s\u001b[0m 55ms/step - auc: 0.9283 - binary_accuracy: 0.9813 - loss: 0.0606 - val_auc: 0.9365 - val_binary_accuracy: 0.9813 - val_loss: 0.1512\n",
      "Epoch 20/20\n",
      "\u001b[1m23/23\u001b[0m \u001b[32m━━━━━━━━━━━━━━━━━━━━\u001b[0m\u001b[37m\u001b[0m \u001b[1m1s\u001b[0m 55ms/step - auc: 0.9296 - binary_accuracy: 0.9813 - loss: 0.0601 - val_auc: 0.9375 - val_binary_accuracy: 0.9813 - val_loss: 0.1332\n",
      "\u001b[1m  95/3557\u001b[0m \u001b[37m━━━━━━━━━━━━━━━━━━━━\u001b[0m \u001b[1m5s\u001b[0m 2ms/step - auc: 0.9465 - binary_accuracy: 0.9817 - loss: 0.1313"
     ]
    },
    {
     "name": "stderr",
     "output_type": "stream",
     "text": [
      "W0000 00:00:1712559894.910882      92 graph_launch.cc:671] Fallback to op-by-op mode because memset node breaks graph update\n"
     ]
    },
    {
     "name": "stdout",
     "output_type": "stream",
     "text": [
      "\u001b[1m3557/3557\u001b[0m \u001b[32m━━━━━━━━━━━━━━━━━━━━\u001b[0m\u001b[37m\u001b[0m \u001b[1m7s\u001b[0m 2ms/step - auc: 0.9459 - binary_accuracy: 0.9816 - loss: 0.1323\n"
     ]
    },
    {
     "name": "stderr",
     "output_type": "stream",
     "text": [
      "W0000 00:00:1712559901.294559      93 graph_launch.cc:671] Fallback to op-by-op mode because memset node breaks graph update\n"
     ]
    },
    {
     "name": "stdout",
     "output_type": "stream",
     "text": [
      "\u001b[1m890/890\u001b[0m \u001b[32m━━━━━━━━━━━━━━━━━━━━\u001b[0m\u001b[37m\u001b[0m \u001b[1m2s\u001b[0m 2ms/step - auc: 0.9370 - binary_accuracy: 0.9812 - loss: 0.1336\n",
      "Final Training Metrics:\n",
      "Loss: 0.13216589391231537\n",
      "Binary Accuracy: 0.9816933274269104\n",
      "AUC: 0.9459705948829651\n",
      "\n",
      "Final Validation Metrics:\n",
      "Loss: 0.13321349024772644\n",
      "Binary Accuracy: 0.9812984466552734\n",
      "AUC: 0.9374620914459229\n"
     ]
    },
    {
     "name": "stderr",
     "output_type": "stream",
     "text": [
      "W0000 00:00:1712559904.635608      91 graph_launch.cc:671] Fallback to op-by-op mode because memset node breaks graph update\n"
     ]
    }
   ],
   "source": [
    "import numpy as np\n",
    "from sklearn.model_selection import train_test_split\n",
    "\n",
    "# Split the data into train and validation sets\n",
    "train_data, val_data, train_labels, val_labels = train_test_split(train_df, labels_df, test_size=0.2, random_state=42)\n",
    "\n",
    "# Define model architecture\n",
    "INPUT_SHAPE = [train_df.shape[1]]\n",
    "num_of_labels = labels_df.shape[1]\n",
    "\n",
    "BATCH_SIZE = 5120\n",
    "\n",
    "model = tf.keras.Sequential([\n",
    "    tf.keras.layers.BatchNormalization(input_shape=INPUT_SHAPE),\n",
    "    tf.keras.layers.Dense(units=512, activation='relu'),\n",
    "    tf.keras.layers.Dropout(0.2),\n",
    "    tf.keras.layers.Dense(units=512, activation='relu'),\n",
    "    tf.keras.layers.Dropout(0.2),\n",
    "    tf.keras.layers.Dense(units=512, activation='relu'),\n",
    "    tf.keras.layers.Dropout(0.2),\n",
    "    tf.keras.layers.Dense(units=num_of_labels, activation='sigmoid')\n",
    "])\n",
    "\n",
    "model.compile(\n",
    "    optimizer=tf.keras.optimizers.Adam(learning_rate=0.001),\n",
    "    loss='binary_crossentropy',\n",
    "    metrics=['binary_accuracy', tf.keras.metrics.AUC()]\n",
    ")\n",
    "\n",
    "# Train the model with validation split\n",
    "history = model.fit(\n",
    "    train_data,\n",
    "    train_labels,\n",
    "    batch_size=BATCH_SIZE,\n",
    "    epochs=20,\n",
    "    validation_data=(val_data, val_labels)\n",
    ")\n",
    "\n",
    "# Get the final training and validation metrics\n",
    "final_train_metrics = model.evaluate(train_data, train_labels)\n",
    "final_val_metrics = model.evaluate(val_data, val_labels)\n",
    "\n",
    "print(\"Final Training Metrics:\")\n",
    "print(\"Loss:\", final_train_metrics[0])\n",
    "print(\"Binary Accuracy:\", final_train_metrics[2])\n",
    "print(\"AUC:\", final_train_metrics[1])\n",
    "\n",
    "print(\"\\nFinal Validation Metrics:\")\n",
    "print(\"Loss:\", final_val_metrics[0])\n",
    "print(\"Binary Accuracy:\", final_val_metrics[2])\n",
    "print(\"AUC:\", final_val_metrics[1])\n"
   ]
  },
  {
   "cell_type": "code",
   "execution_count": 19,
   "id": "063a11dc",
   "metadata": {
    "execution": {
     "iopub.execute_input": "2024-04-08T07:05:04.792326Z",
     "iopub.status.busy": "2024-04-08T07:05:04.787363Z",
     "iopub.status.idle": "2024-04-08T07:05:04.859286Z",
     "shell.execute_reply": "2024-04-08T07:05:04.858479Z"
    },
    "papermill": {
     "duration": 0.130962,
     "end_time": "2024-04-08T07:05:04.861498",
     "exception": false,
     "start_time": "2024-04-08T07:05:04.730536",
     "status": "completed"
    },
    "tags": []
   },
   "outputs": [],
   "source": [
    "model.save(\"/kaggle/working/model.weights.h5\")"
   ]
  },
  {
   "cell_type": "code",
   "execution_count": 20,
   "id": "df16bcdd",
   "metadata": {
    "execution": {
     "iopub.execute_input": "2024-04-08T07:05:04.971546Z",
     "iopub.status.busy": "2024-04-08T07:05:04.970807Z",
     "iopub.status.idle": "2024-04-08T07:05:05.295448Z",
     "shell.execute_reply": "2024-04-08T07:05:05.294175Z"
    },
    "papermill": {
     "duration": 0.38136,
     "end_time": "2024-04-08T07:05:05.297304",
     "exception": true,
     "start_time": "2024-04-08T07:05:04.915944",
     "status": "failed"
    },
    "tags": []
   },
   "outputs": [
    {
     "ename": "AttributeError",
     "evalue": "module 'keras.models' has no attribute 'load_weights'",
     "output_type": "error",
     "traceback": [
      "\u001b[0;31m---------------------------------------------------------------------------\u001b[0m",
      "\u001b[0;31mAttributeError\u001b[0m                            Traceback (most recent call last)",
      "Cell \u001b[0;32mIn[20], line 1\u001b[0m\n\u001b[0;32m----> 1\u001b[0m model\u001b[38;5;241m=\u001b[39m\u001b[43mtf\u001b[49m\u001b[38;5;241;43m.\u001b[39;49m\u001b[43mkeras\u001b[49m\u001b[38;5;241;43m.\u001b[39;49m\u001b[43mmodels\u001b[49m\u001b[38;5;241;43m.\u001b[39;49m\u001b[43mload_weights\u001b[49m(\u001b[38;5;124m\"\u001b[39m\u001b[38;5;124m/kaggle/working/model.weights.h5\u001b[39m\u001b[38;5;124m\"\u001b[39m)\n",
      "\u001b[0;31mAttributeError\u001b[0m: module 'keras.models' has no attribute 'load_weights'"
     ]
    }
   ],
   "source": [
    "model=tf.keras.models.load_weights(\"/kaggle/working/model.weights.h5\")"
   ]
  },
  {
   "cell_type": "code",
   "execution_count": null,
   "id": "0ff7e08f",
   "metadata": {
    "execution": {
     "iopub.execute_input": "2024-04-08T07:00:13.163880Z",
     "iopub.status.busy": "2024-04-08T07:00:13.163447Z",
     "iopub.status.idle": "2024-04-08T07:00:24.821626Z",
     "shell.execute_reply": "2024-04-08T07:00:24.820691Z",
     "shell.execute_reply.started": "2024-04-08T07:00:13.163844Z"
    },
    "papermill": {
     "duration": null,
     "end_time": null,
     "exception": null,
     "start_time": null,
     "status": "pending"
    },
    "tags": []
   },
   "outputs": [],
   "source": [
    "final_train_metrics = model.evaluate(train_data, train_labels)\n",
    "final_val_metrics = model.evaluate(val_data, val_labels)\n",
    "\n",
    "print(\"Final Training Metrics:\")\n",
    "print(\"Loss:\", final_train_metrics[0])\n",
    "print(\"Binary Accuracy:\", final_train_metrics[1])\n",
    "print(\"AUC:\", final_train_metrics[2])\n",
    "\n",
    "print(\"\\nFinal Validation Metrics:\")\n",
    "print(\"Loss:\", final_val_metrics[0])\n",
    "print(\"Binary Accuracy:\", final_val_metrics[1])\n",
    "print(\"AUC:\", final_val_metrics[2])\n"
   ]
  },
  {
   "cell_type": "code",
   "execution_count": null,
   "id": "d23f47f0",
   "metadata": {
    "execution": {
     "iopub.execute_input": "2024-04-07T09:22:48.4824Z",
     "iopub.status.busy": "2024-04-07T09:22:48.481988Z",
     "iopub.status.idle": "2024-04-07T09:22:48.830439Z",
     "shell.execute_reply": "2024-04-07T09:22:48.829547Z",
     "shell.execute_reply.started": "2024-04-07T09:22:48.48237Z"
    },
    "papermill": {
     "duration": null,
     "end_time": null,
     "exception": null,
     "start_time": null,
     "status": "pending"
    },
    "tags": []
   },
   "outputs": [],
   "source": [
    "custom_input_tensor = np.array([[1 for i in range(1024)]])\n",
    "print(custom_input_tensor)\n",
    "print(len(custom_input_tensor[0]))\n",
    "# Get predictions for custom input tensor\n",
    "predictions = model.predict(custom_input_tensor)\n",
    "\n",
    "# 'predictions' will contain the model's output for the custom input tensor\n",
    "print(predictions)\n",
    "for i in predictions[0]:\n",
    "    x=0 if i<0.5 else 1\n",
    "    print(x)\n",
    "# print(len(predictions))\n"
   ]
  },
  {
   "cell_type": "markdown",
   "id": "ee488207",
   "metadata": {
    "papermill": {
     "duration": null,
     "end_time": null,
     "exception": null,
     "start_time": null,
     "status": "pending"
    },
    "tags": []
   },
   "source": [
    "# Plot the model's loss and accuracy for each epoch"
   ]
  },
  {
   "cell_type": "code",
   "execution_count": null,
   "id": "9d409478",
   "metadata": {
    "execution": {
     "iopub.execute_input": "2024-04-08T07:00:47.362433Z",
     "iopub.status.busy": "2024-04-08T07:00:47.362016Z",
     "iopub.status.idle": "2024-04-08T07:00:48.019220Z",
     "shell.execute_reply": "2024-04-08T07:00:48.018274Z",
     "shell.execute_reply.started": "2024-04-08T07:00:47.362398Z"
    },
    "papermill": {
     "duration": null,
     "end_time": null,
     "exception": null,
     "start_time": null,
     "status": "pending"
    },
    "tags": []
   },
   "outputs": [],
   "source": [
    "history_df = pd.DataFrame(history.history)\n",
    "history_df.loc[:, ['loss']].plot(title=\"Cross-entropy\")\n",
    "history_df.loc[:, ['binary_accuracy']].plot(title=\"Accuracy\")"
   ]
  },
  {
   "cell_type": "markdown",
   "id": "d39f32d3",
   "metadata": {
    "papermill": {
     "duration": null,
     "end_time": null,
     "exception": null,
     "start_time": null,
     "status": "pending"
    },
    "tags": []
   },
   "source": [
    "# Submission"
   ]
  },
  {
   "cell_type": "markdown",
   "id": "9aa41edf",
   "metadata": {
    "papermill": {
     "duration": null,
     "end_time": null,
     "exception": null,
     "start_time": null,
     "status": "pending"
    },
    "tags": []
   },
   "source": [
    "For submission we will use the protein embeddings of the test data created by [Sergei Fironov](https://www.kaggle.com/sergeifironov) using the Rost Lab's T5 protein language model."
   ]
  },
  {
   "cell_type": "code",
   "execution_count": null,
   "id": "df32e4cc",
   "metadata": {
    "papermill": {
     "duration": null,
     "end_time": null,
     "exception": null,
     "start_time": null,
     "status": "pending"
    },
    "tags": []
   },
   "outputs": [],
   "source": [
    "# test_embeddings = np.load('/kaggle/input/t5embeds/test_embeds.npy')\n",
    "# column_num = test_embeddings.shape[1]\n",
    "# test_df = pd.DataFrame(test_embeddings, columns = [\"Column_\" + str(i) for i in range(1, column_num+1)])\n",
    "# test_df"
   ]
  },
  {
   "cell_type": "code",
   "execution_count": null,
   "id": "4a0f5183",
   "metadata": {
    "papermill": {
     "duration": null,
     "end_time": null,
     "exception": null,
     "start_time": null,
     "status": "pending"
    },
    "tags": []
   },
   "outputs": [],
   "source": [
    "# from tensorflow.keras.models import load_model\n",
    "# model=load_model('/kaggle/working/model/model_1.h5')\n",
    "# predictions =  model.predict(test_df)"
   ]
  },
  {
   "cell_type": "code",
   "execution_count": null,
   "id": "ee39ef0b",
   "metadata": {
    "papermill": {
     "duration": null,
     "end_time": null,
     "exception": null,
     "start_time": null,
     "status": "pending"
    },
    "tags": []
   },
   "outputs": [],
   "source": [
    "# import pickle\n",
    "# file_path = '/kaggle/working/predictions'\n",
    "# with open(file_path, 'wb') as file:\n",
    "#     pickle.dump(predictions, file)"
   ]
  },
  {
   "cell_type": "code",
   "execution_count": null,
   "id": "6ed417d9",
   "metadata": {
    "papermill": {
     "duration": null,
     "end_time": null,
     "exception": null,
     "start_time": null,
     "status": "pending"
    },
    "tags": []
   },
   "outputs": [],
   "source": [
    "# import tensorflow as tf\n",
    "# import pandas as pd\n",
    "# import numpy as np\n",
    "# import seaborn as sns\n",
    "# import matplotlib.pyplot as plt\n",
    "# import progressbar"
   ]
  },
  {
   "cell_type": "code",
   "execution_count": null,
   "id": "ba34ce03",
   "metadata": {
    "papermill": {
     "duration": null,
     "end_time": null,
     "exception": null,
     "start_time": null,
     "status": "pending"
    },
    "tags": []
   },
   "outputs": [],
   "source": [
    "# train_terms=pd.read_csv('/kaggle/input/cafa-5-protein-function-prediction/Train/train_terms.tsv', sep=\"\\t\")\n",
    "# num_of_labels = 1500\n",
    "# labels = train_terms['term'].value_counts().index\n",
    "# labels=labels[:num_of_labels]\n",
    "# labels"
   ]
  },
  {
   "cell_type": "code",
   "execution_count": null,
   "id": "1513d61f",
   "metadata": {
    "papermill": {
     "duration": null,
     "end_time": null,
     "exception": null,
     "start_time": null,
     "status": "pending"
    },
    "tags": []
   },
   "outputs": [],
   "source": [
    "# import pickle\n",
    "# file_path = '/kaggle/working/predictions'\n",
    "# with open(file_path, 'rb') as file:\n",
    "#     predictions = pickle.load(file)"
   ]
  },
  {
   "cell_type": "code",
   "execution_count": null,
   "id": "9301257d",
   "metadata": {
    "papermill": {
     "duration": null,
     "end_time": null,
     "exception": null,
     "start_time": null,
     "status": "pending"
    },
    "tags": []
   },
   "outputs": [],
   "source": [
    "# predictions.shape"
   ]
  },
  {
   "cell_type": "code",
   "execution_count": null,
   "id": "a840e2cc",
   "metadata": {
    "papermill": {
     "duration": null,
     "end_time": null,
     "exception": null,
     "start_time": null,
     "status": "pending"
    },
    "tags": []
   },
   "outputs": [],
   "source": [
    "# import pandas as pd\n",
    "# import numpy as np\n",
    "\n",
    "# test_protein_ids = np.load('/kaggle/input/t5embeds/test_ids.npy')\n",
    "# num_predictions = predictions.shape[1]\n",
    "# num_labels = predictions.shape[0]\n",
    "\n",
    "# data = {\n",
    "#     'Protein Id': pd.Series(np.repeat(test_protein_ids, num_predictions)),\n",
    "#     'GO Term Id': pd.Series(np.tile(labels, num_predictions)),\n",
    "#     'Prediction': pd.Series(predictions.ravel())\n",
    "# }\n",
    "\n",
    "# df_submission = pd.DataFrame(data)\n",
    "# df_submission.to_csv(\"submission.tsv\",sep=\"\\t\")\n"
   ]
  },
  {
   "cell_type": "markdown",
   "id": "3f0cc199",
   "metadata": {
    "papermill": {
     "duration": null,
     "end_time": null,
     "exception": null,
     "start_time": null,
     "status": "pending"
    },
    "tags": []
   },
   "source": [
    "From the predictions we will create the submission data frame.\n",
    "\n",
    "**Note**: This will take atleast **15 to 20** minutes to finish."
   ]
  },
  {
   "cell_type": "code",
   "execution_count": null,
   "id": "2e73c65b",
   "metadata": {
    "papermill": {
     "duration": null,
     "end_time": null,
     "exception": null,
     "start_time": null,
     "status": "pending"
    },
    "tags": []
   },
   "outputs": [],
   "source": [
    "# predictions.ravel()"
   ]
  },
  {
   "cell_type": "code",
   "execution_count": null,
   "id": "c470e75a",
   "metadata": {
    "papermill": {
     "duration": null,
     "end_time": null,
     "exception": null,
     "start_time": null,
     "status": "pending"
    },
    "tags": []
   },
   "outputs": [],
   "source": [
    "# df_submission"
   ]
  }
 ],
 "metadata": {
  "colab": {
   "gpuType": "T4",
   "provenance": []
  },
  "kaggle": {
   "accelerator": "nvidiaTeslaT4",
   "dataSources": [
    {
     "databundleVersionId": 5521661,
     "sourceId": 41875,
     "sourceType": "competition"
    },
    {
     "datasetId": 3167603,
     "sourceId": 5499219,
     "sourceType": "datasetVersion"
    },
    {
     "datasetId": 4748350,
     "sourceId": 8051704,
     "sourceType": "datasetVersion"
    }
   ],
   "dockerImageVersionId": 30674,
   "isGpuEnabled": true,
   "isInternetEnabled": true,
   "language": "python",
   "sourceType": "notebook"
  },
  "kernelspec": {
   "display_name": "Python 3",
   "language": "python",
   "name": "python3"
  },
  "language_info": {
   "codemirror_mode": {
    "name": "ipython",
    "version": 3
   },
   "file_extension": ".py",
   "mimetype": "text/x-python",
   "name": "python",
   "nbconvert_exporter": "python",
   "pygments_lexer": "ipython3",
   "version": "3.10.13"
  },
  "papermill": {
   "default_parameters": {},
   "duration": 209.437633,
   "end_time": "2024-04-08T07:05:08.787067",
   "environment_variables": {},
   "exception": true,
   "input_path": "__notebook__.ipynb",
   "output_path": "__notebook__.ipynb",
   "parameters": {},
   "start_time": "2024-04-08T07:01:39.349434",
   "version": "2.5.0"
  },
  "widgets": {
   "application/vnd.jupyter.widget-state+json": {
    "state": {
     "01b77165d5834bad801b9824ab90fd8f": {
      "model_module": "@jupyter-widgets/base",
      "model_module_version": "1.2.0",
      "model_name": "LayoutModel",
      "state": {
       "_model_module": "@jupyter-widgets/base",
       "_model_module_version": "1.2.0",
       "_model_name": "LayoutModel",
       "_view_count": null,
       "_view_module": "@jupyter-widgets/base",
       "_view_module_version": "1.2.0",
       "_view_name": "LayoutView",
       "align_content": null,
       "align_items": null,
       "align_self": null,
       "border": null,
       "bottom": null,
       "display": null,
       "flex": null,
       "flex_flow": null,
       "grid_area": null,
       "grid_auto_columns": null,
       "grid_auto_flow": null,
       "grid_auto_rows": null,
       "grid_column": null,
       "grid_gap": null,
       "grid_row": null,
       "grid_template_areas": null,
       "grid_template_columns": null,
       "grid_template_rows": null,
       "height": null,
       "justify_content": null,
       "justify_items": null,
       "left": null,
       "margin": null,
       "max_height": null,
       "max_width": null,
       "min_height": null,
       "min_width": null,
       "object_fit": null,
       "object_position": null,
       "order": null,
       "overflow": null,
       "overflow_x": null,
       "overflow_y": null,
       "padding": null,
       "right": null,
       "top": null,
       "visibility": null,
       "width": null
      }
     },
     "0784982a2eb14cdeb4ee146b44a96450": {
      "model_module": "@jupyter-widgets/base",
      "model_module_version": "1.2.0",
      "model_name": "LayoutModel",
      "state": {
       "_model_module": "@jupyter-widgets/base",
       "_model_module_version": "1.2.0",
       "_model_name": "LayoutModel",
       "_view_count": null,
       "_view_module": "@jupyter-widgets/base",
       "_view_module_version": "1.2.0",
       "_view_name": "LayoutView",
       "align_content": null,
       "align_items": null,
       "align_self": null,
       "border": null,
       "bottom": null,
       "display": null,
       "flex": null,
       "flex_flow": null,
       "grid_area": null,
       "grid_auto_columns": null,
       "grid_auto_flow": null,
       "grid_auto_rows": null,
       "grid_column": null,
       "grid_gap": null,
       "grid_row": null,
       "grid_template_areas": null,
       "grid_template_columns": null,
       "grid_template_rows": null,
       "height": null,
       "justify_content": null,
       "justify_items": null,
       "left": null,
       "margin": null,
       "max_height": null,
       "max_width": null,
       "min_height": null,
       "min_width": null,
       "object_fit": null,
       "object_position": null,
       "order": null,
       "overflow": null,
       "overflow_x": null,
       "overflow_y": null,
       "padding": null,
       "right": null,
       "top": null,
       "visibility": null,
       "width": null
      }
     },
     "09678d92d4c146b19458d2f69012b0fa": {
      "model_module": "@jupyter-widgets/controls",
      "model_module_version": "1.5.0",
      "model_name": "HTMLModel",
      "state": {
       "_dom_classes": [],
       "_model_module": "@jupyter-widgets/controls",
       "_model_module_version": "1.5.0",
       "_model_name": "HTMLModel",
       "_view_count": null,
       "_view_module": "@jupyter-widgets/controls",
       "_view_module_version": "1.5.0",
       "_view_name": "HTMLView",
       "description": "",
       "description_tooltip": null,
       "layout": "IPY_MODEL_67cc50de3faa491b9f0f4e8826a874e2",
       "placeholder": "​",
       "style": "IPY_MODEL_c13707c0767f4a2687694064904e75ce",
       "value": "config.json: 100%"
      }
     },
     "0db66f4853114ce1bf216269b1f6c587": {
      "model_module": "@jupyter-widgets/controls",
      "model_module_version": "1.5.0",
      "model_name": "DescriptionStyleModel",
      "state": {
       "_model_module": "@jupyter-widgets/controls",
       "_model_module_version": "1.5.0",
       "_model_name": "DescriptionStyleModel",
       "_view_count": null,
       "_view_module": "@jupyter-widgets/base",
       "_view_module_version": "1.2.0",
       "_view_name": "StyleView",
       "description_width": ""
      }
     },
     "1207b746c6f84d1391d93cc8b3d675e6": {
      "model_module": "@jupyter-widgets/base",
      "model_module_version": "1.2.0",
      "model_name": "LayoutModel",
      "state": {
       "_model_module": "@jupyter-widgets/base",
       "_model_module_version": "1.2.0",
       "_model_name": "LayoutModel",
       "_view_count": null,
       "_view_module": "@jupyter-widgets/base",
       "_view_module_version": "1.2.0",
       "_view_name": "LayoutView",
       "align_content": null,
       "align_items": null,
       "align_self": null,
       "border": null,
       "bottom": null,
       "display": null,
       "flex": null,
       "flex_flow": null,
       "grid_area": null,
       "grid_auto_columns": null,
       "grid_auto_flow": null,
       "grid_auto_rows": null,
       "grid_column": null,
       "grid_gap": null,
       "grid_row": null,
       "grid_template_areas": null,
       "grid_template_columns": null,
       "grid_template_rows": null,
       "height": null,
       "justify_content": null,
       "justify_items": null,
       "left": null,
       "margin": null,
       "max_height": null,
       "max_width": null,
       "min_height": null,
       "min_width": null,
       "object_fit": null,
       "object_position": null,
       "order": null,
       "overflow": null,
       "overflow_x": null,
       "overflow_y": null,
       "padding": null,
       "right": null,
       "top": null,
       "visibility": null,
       "width": null
      }
     },
     "126f724e83eb4001970f8379280cf5fa": {
      "model_module": "@jupyter-widgets/controls",
      "model_module_version": "1.5.0",
      "model_name": "DescriptionStyleModel",
      "state": {
       "_model_module": "@jupyter-widgets/controls",
       "_model_module_version": "1.5.0",
       "_model_name": "DescriptionStyleModel",
       "_view_count": null,
       "_view_module": "@jupyter-widgets/base",
       "_view_module_version": "1.2.0",
       "_view_name": "StyleView",
       "description_width": ""
      }
     },
     "17168c2984c94e348d745b3942e2384a": {
      "model_module": "@jupyter-widgets/controls",
      "model_module_version": "1.5.0",
      "model_name": "DescriptionStyleModel",
      "state": {
       "_model_module": "@jupyter-widgets/controls",
       "_model_module_version": "1.5.0",
       "_model_name": "DescriptionStyleModel",
       "_view_count": null,
       "_view_module": "@jupyter-widgets/base",
       "_view_module_version": "1.2.0",
       "_view_name": "StyleView",
       "description_width": ""
      }
     },
     "1de9273e42d245a69b7cec67092fc50d": {
      "model_module": "@jupyter-widgets/base",
      "model_module_version": "1.2.0",
      "model_name": "LayoutModel",
      "state": {
       "_model_module": "@jupyter-widgets/base",
       "_model_module_version": "1.2.0",
       "_model_name": "LayoutModel",
       "_view_count": null,
       "_view_module": "@jupyter-widgets/base",
       "_view_module_version": "1.2.0",
       "_view_name": "LayoutView",
       "align_content": null,
       "align_items": null,
       "align_self": null,
       "border": null,
       "bottom": null,
       "display": null,
       "flex": null,
       "flex_flow": null,
       "grid_area": null,
       "grid_auto_columns": null,
       "grid_auto_flow": null,
       "grid_auto_rows": null,
       "grid_column": null,
       "grid_gap": null,
       "grid_row": null,
       "grid_template_areas": null,
       "grid_template_columns": null,
       "grid_template_rows": null,
       "height": null,
       "justify_content": null,
       "justify_items": null,
       "left": null,
       "margin": null,
       "max_height": null,
       "max_width": null,
       "min_height": null,
       "min_width": null,
       "object_fit": null,
       "object_position": null,
       "order": null,
       "overflow": null,
       "overflow_x": null,
       "overflow_y": null,
       "padding": null,
       "right": null,
       "top": null,
       "visibility": null,
       "width": null
      }
     },
     "1e79e17011d54afbabd95a50655c4b9b": {
      "model_module": "@jupyter-widgets/base",
      "model_module_version": "1.2.0",
      "model_name": "LayoutModel",
      "state": {
       "_model_module": "@jupyter-widgets/base",
       "_model_module_version": "1.2.0",
       "_model_name": "LayoutModel",
       "_view_count": null,
       "_view_module": "@jupyter-widgets/base",
       "_view_module_version": "1.2.0",
       "_view_name": "LayoutView",
       "align_content": null,
       "align_items": null,
       "align_self": null,
       "border": null,
       "bottom": null,
       "display": null,
       "flex": null,
       "flex_flow": null,
       "grid_area": null,
       "grid_auto_columns": null,
       "grid_auto_flow": null,
       "grid_auto_rows": null,
       "grid_column": null,
       "grid_gap": null,
       "grid_row": null,
       "grid_template_areas": null,
       "grid_template_columns": null,
       "grid_template_rows": null,
       "height": null,
       "justify_content": null,
       "justify_items": null,
       "left": null,
       "margin": null,
       "max_height": null,
       "max_width": null,
       "min_height": null,
       "min_width": null,
       "object_fit": null,
       "object_position": null,
       "order": null,
       "overflow": null,
       "overflow_x": null,
       "overflow_y": null,
       "padding": null,
       "right": null,
       "top": null,
       "visibility": null,
       "width": null
      }
     },
     "26ef58f0fb3647e5bd6db8d37935f2fd": {
      "model_module": "@jupyter-widgets/base",
      "model_module_version": "1.2.0",
      "model_name": "LayoutModel",
      "state": {
       "_model_module": "@jupyter-widgets/base",
       "_model_module_version": "1.2.0",
       "_model_name": "LayoutModel",
       "_view_count": null,
       "_view_module": "@jupyter-widgets/base",
       "_view_module_version": "1.2.0",
       "_view_name": "LayoutView",
       "align_content": null,
       "align_items": null,
       "align_self": null,
       "border": null,
       "bottom": null,
       "display": null,
       "flex": null,
       "flex_flow": null,
       "grid_area": null,
       "grid_auto_columns": null,
       "grid_auto_flow": null,
       "grid_auto_rows": null,
       "grid_column": null,
       "grid_gap": null,
       "grid_row": null,
       "grid_template_areas": null,
       "grid_template_columns": null,
       "grid_template_rows": null,
       "height": null,
       "justify_content": null,
       "justify_items": null,
       "left": null,
       "margin": null,
       "max_height": null,
       "max_width": null,
       "min_height": null,
       "min_width": null,
       "object_fit": null,
       "object_position": null,
       "order": null,
       "overflow": null,
       "overflow_x": null,
       "overflow_y": null,
       "padding": null,
       "right": null,
       "top": null,
       "visibility": null,
       "width": null
      }
     },
     "2b53e3ccfe4d4c9789bd08d1d3795c3c": {
      "model_module": "@jupyter-widgets/controls",
      "model_module_version": "1.5.0",
      "model_name": "ProgressStyleModel",
      "state": {
       "_model_module": "@jupyter-widgets/controls",
       "_model_module_version": "1.5.0",
       "_model_name": "ProgressStyleModel",
       "_view_count": null,
       "_view_module": "@jupyter-widgets/base",
       "_view_module_version": "1.2.0",
       "_view_name": "StyleView",
       "bar_color": null,
       "description_width": ""
      }
     },
     "2eb7499f90214f38bb6e81fd45812025": {
      "model_module": "@jupyter-widgets/controls",
      "model_module_version": "1.5.0",
      "model_name": "HTMLModel",
      "state": {
       "_dom_classes": [],
       "_model_module": "@jupyter-widgets/controls",
       "_model_module_version": "1.5.0",
       "_model_name": "HTMLModel",
       "_view_count": null,
       "_view_module": "@jupyter-widgets/controls",
       "_view_module_version": "1.5.0",
       "_view_name": "HTMLView",
       "description": "",
       "description_tooltip": null,
       "layout": "IPY_MODEL_26ef58f0fb3647e5bd6db8d37935f2fd",
       "placeholder": "​",
       "style": "IPY_MODEL_4efa3313aaa94a0f8f94bc4d85e4662b",
       "value": " 25.0/25.0 [00:00&lt;00:00, 1.82kB/s]"
      }
     },
     "391bf753d3af406e9e94b79f5c117c27": {
      "model_module": "@jupyter-widgets/controls",
      "model_module_version": "1.5.0",
      "model_name": "HBoxModel",
      "state": {
       "_dom_classes": [],
       "_model_module": "@jupyter-widgets/controls",
       "_model_module_version": "1.5.0",
       "_model_name": "HBoxModel",
       "_view_count": null,
       "_view_module": "@jupyter-widgets/controls",
       "_view_module_version": "1.5.0",
       "_view_name": "HBoxView",
       "box_style": "",
       "children": [
        "IPY_MODEL_a0adae6c39ba4be8a91f4e862f8bf186",
        "IPY_MODEL_9fff9847b2824986859bc0af203270c1",
        "IPY_MODEL_2eb7499f90214f38bb6e81fd45812025"
       ],
       "layout": "IPY_MODEL_960541eec4b6414baa28cc7bb6d4f0fe"
      }
     },
     "3c09ba1a5f4a484d918fffffeef05aab": {
      "model_module": "@jupyter-widgets/base",
      "model_module_version": "1.2.0",
      "model_name": "LayoutModel",
      "state": {
       "_model_module": "@jupyter-widgets/base",
       "_model_module_version": "1.2.0",
       "_model_name": "LayoutModel",
       "_view_count": null,
       "_view_module": "@jupyter-widgets/base",
       "_view_module_version": "1.2.0",
       "_view_name": "LayoutView",
       "align_content": null,
       "align_items": null,
       "align_self": null,
       "border": null,
       "bottom": null,
       "display": null,
       "flex": null,
       "flex_flow": null,
       "grid_area": null,
       "grid_auto_columns": null,
       "grid_auto_flow": null,
       "grid_auto_rows": null,
       "grid_column": null,
       "grid_gap": null,
       "grid_row": null,
       "grid_template_areas": null,
       "grid_template_columns": null,
       "grid_template_rows": null,
       "height": null,
       "justify_content": null,
       "justify_items": null,
       "left": null,
       "margin": null,
       "max_height": null,
       "max_width": null,
       "min_height": null,
       "min_width": null,
       "object_fit": null,
       "object_position": null,
       "order": null,
       "overflow": null,
       "overflow_x": null,
       "overflow_y": null,
       "padding": null,
       "right": null,
       "top": null,
       "visibility": null,
       "width": null
      }
     },
     "4118b40a9522400c95cbc2b2984152be": {
      "model_module": "@jupyter-widgets/controls",
      "model_module_version": "1.5.0",
      "model_name": "FloatProgressModel",
      "state": {
       "_dom_classes": [],
       "_model_module": "@jupyter-widgets/controls",
       "_model_module_version": "1.5.0",
       "_model_name": "FloatProgressModel",
       "_view_count": null,
       "_view_module": "@jupyter-widgets/controls",
       "_view_module_version": "1.5.0",
       "_view_name": "ProgressView",
       "bar_style": "success",
       "description": "",
       "description_tooltip": null,
       "layout": "IPY_MODEL_426096bdba224a62980e3b1aa102ebd6",
       "max": 656.0,
       "min": 0.0,
       "orientation": "horizontal",
       "style": "IPY_MODEL_2b53e3ccfe4d4c9789bd08d1d3795c3c",
       "value": 656.0
      }
     },
     "41528d6995b74b9597d359c38a612807": {
      "model_module": "@jupyter-widgets/controls",
      "model_module_version": "1.5.0",
      "model_name": "FloatProgressModel",
      "state": {
       "_dom_classes": [],
       "_model_module": "@jupyter-widgets/controls",
       "_model_module_version": "1.5.0",
       "_model_name": "FloatProgressModel",
       "_view_count": null,
       "_view_module": "@jupyter-widgets/controls",
       "_view_module_version": "1.5.0",
       "_view_name": "ProgressView",
       "bar_style": "success",
       "description": "",
       "description_tooltip": null,
       "layout": "IPY_MODEL_fb8af0ca08cf4613a843fd6241369fe9",
       "max": 2416373051.0,
       "min": 0.0,
       "orientation": "horizontal",
       "style": "IPY_MODEL_b0f66ebe4d634d0382c1c434eb198305",
       "value": 2416373051.0
      }
     },
     "422fd6d199cf418e854c06f06d3552f6": {
      "model_module": "@jupyter-widgets/controls",
      "model_module_version": "1.5.0",
      "model_name": "HTMLModel",
      "state": {
       "_dom_classes": [],
       "_model_module": "@jupyter-widgets/controls",
       "_model_module_version": "1.5.0",
       "_model_name": "HTMLModel",
       "_view_count": null,
       "_view_module": "@jupyter-widgets/controls",
       "_view_module_version": "1.5.0",
       "_view_name": "HTMLView",
       "description": "",
       "description_tooltip": null,
       "layout": "IPY_MODEL_1de9273e42d245a69b7cec67092fc50d",
       "placeholder": "​",
       "style": "IPY_MODEL_17168c2984c94e348d745b3942e2384a",
       "value": "spiece.model: 100%"
      }
     },
     "426096bdba224a62980e3b1aa102ebd6": {
      "model_module": "@jupyter-widgets/base",
      "model_module_version": "1.2.0",
      "model_name": "LayoutModel",
      "state": {
       "_model_module": "@jupyter-widgets/base",
       "_model_module_version": "1.2.0",
       "_model_name": "LayoutModel",
       "_view_count": null,
       "_view_module": "@jupyter-widgets/base",
       "_view_module_version": "1.2.0",
       "_view_name": "LayoutView",
       "align_content": null,
       "align_items": null,
       "align_self": null,
       "border": null,
       "bottom": null,
       "display": null,
       "flex": null,
       "flex_flow": null,
       "grid_area": null,
       "grid_auto_columns": null,
       "grid_auto_flow": null,
       "grid_auto_rows": null,
       "grid_column": null,
       "grid_gap": null,
       "grid_row": null,
       "grid_template_areas": null,
       "grid_template_columns": null,
       "grid_template_rows": null,
       "height": null,
       "justify_content": null,
       "justify_items": null,
       "left": null,
       "margin": null,
       "max_height": null,
       "max_width": null,
       "min_height": null,
       "min_width": null,
       "object_fit": null,
       "object_position": null,
       "order": null,
       "overflow": null,
       "overflow_x": null,
       "overflow_y": null,
       "padding": null,
       "right": null,
       "top": null,
       "visibility": null,
       "width": null
      }
     },
     "4a724ba81a3b420293028fe6af1995b5": {
      "model_module": "@jupyter-widgets/base",
      "model_module_version": "1.2.0",
      "model_name": "LayoutModel",
      "state": {
       "_model_module": "@jupyter-widgets/base",
       "_model_module_version": "1.2.0",
       "_model_name": "LayoutModel",
       "_view_count": null,
       "_view_module": "@jupyter-widgets/base",
       "_view_module_version": "1.2.0",
       "_view_name": "LayoutView",
       "align_content": null,
       "align_items": null,
       "align_self": null,
       "border": null,
       "bottom": null,
       "display": null,
       "flex": null,
       "flex_flow": null,
       "grid_area": null,
       "grid_auto_columns": null,
       "grid_auto_flow": null,
       "grid_auto_rows": null,
       "grid_column": null,
       "grid_gap": null,
       "grid_row": null,
       "grid_template_areas": null,
       "grid_template_columns": null,
       "grid_template_rows": null,
       "height": null,
       "justify_content": null,
       "justify_items": null,
       "left": null,
       "margin": null,
       "max_height": null,
       "max_width": null,
       "min_height": null,
       "min_width": null,
       "object_fit": null,
       "object_position": null,
       "order": null,
       "overflow": null,
       "overflow_x": null,
       "overflow_y": null,
       "padding": null,
       "right": null,
       "top": null,
       "visibility": null,
       "width": null
      }
     },
     "4cbb74059f8343c4888815416b734fb1": {
      "model_module": "@jupyter-widgets/base",
      "model_module_version": "1.2.0",
      "model_name": "LayoutModel",
      "state": {
       "_model_module": "@jupyter-widgets/base",
       "_model_module_version": "1.2.0",
       "_model_name": "LayoutModel",
       "_view_count": null,
       "_view_module": "@jupyter-widgets/base",
       "_view_module_version": "1.2.0",
       "_view_name": "LayoutView",
       "align_content": null,
       "align_items": null,
       "align_self": null,
       "border": null,
       "bottom": null,
       "display": null,
       "flex": null,
       "flex_flow": null,
       "grid_area": null,
       "grid_auto_columns": null,
       "grid_auto_flow": null,
       "grid_auto_rows": null,
       "grid_column": null,
       "grid_gap": null,
       "grid_row": null,
       "grid_template_areas": null,
       "grid_template_columns": null,
       "grid_template_rows": null,
       "height": null,
       "justify_content": null,
       "justify_items": null,
       "left": null,
       "margin": null,
       "max_height": null,
       "max_width": null,
       "min_height": null,
       "min_width": null,
       "object_fit": null,
       "object_position": null,
       "order": null,
       "overflow": null,
       "overflow_x": null,
       "overflow_y": null,
       "padding": null,
       "right": null,
       "top": null,
       "visibility": null,
       "width": null
      }
     },
     "4efa3313aaa94a0f8f94bc4d85e4662b": {
      "model_module": "@jupyter-widgets/controls",
      "model_module_version": "1.5.0",
      "model_name": "DescriptionStyleModel",
      "state": {
       "_model_module": "@jupyter-widgets/controls",
       "_model_module_version": "1.5.0",
       "_model_name": "DescriptionStyleModel",
       "_view_count": null,
       "_view_module": "@jupyter-widgets/base",
       "_view_module_version": "1.2.0",
       "_view_name": "StyleView",
       "description_width": ""
      }
     },
     "573ec775fec8480c827a957d4c5c756b": {
      "model_module": "@jupyter-widgets/controls",
      "model_module_version": "1.5.0",
      "model_name": "HTMLModel",
      "state": {
       "_dom_classes": [],
       "_model_module": "@jupyter-widgets/controls",
       "_model_module_version": "1.5.0",
       "_model_name": "HTMLModel",
       "_view_count": null,
       "_view_module": "@jupyter-widgets/controls",
       "_view_module_version": "1.5.0",
       "_view_name": "HTMLView",
       "description": "",
       "description_tooltip": null,
       "layout": "IPY_MODEL_1207b746c6f84d1391d93cc8b3d675e6",
       "placeholder": "​",
       "style": "IPY_MODEL_e0d7d45c13e84d3999d59544a0d8bc72",
       "value": " 2.42G/2.42G [00:07&lt;00:00, 343MB/s]"
      }
     },
     "64efd497fe804e3b8b30b72d4f272d4a": {
      "model_module": "@jupyter-widgets/controls",
      "model_module_version": "1.5.0",
      "model_name": "HTMLModel",
      "state": {
       "_dom_classes": [],
       "_model_module": "@jupyter-widgets/controls",
       "_model_module_version": "1.5.0",
       "_model_name": "HTMLModel",
       "_view_count": null,
       "_view_module": "@jupyter-widgets/controls",
       "_view_module_version": "1.5.0",
       "_view_name": "HTMLView",
       "description": "",
       "description_tooltip": null,
       "layout": "IPY_MODEL_a5b9b409506a46dd9636a76c7658a206",
       "placeholder": "​",
       "style": "IPY_MODEL_d538eb523ce74cebbf91648a0ac469a7",
       "value": " 238k/238k [00:00&lt;00:00, 1.44MB/s]"
      }
     },
     "67cc50de3faa491b9f0f4e8826a874e2": {
      "model_module": "@jupyter-widgets/base",
      "model_module_version": "1.2.0",
      "model_name": "LayoutModel",
      "state": {
       "_model_module": "@jupyter-widgets/base",
       "_model_module_version": "1.2.0",
       "_model_name": "LayoutModel",
       "_view_count": null,
       "_view_module": "@jupyter-widgets/base",
       "_view_module_version": "1.2.0",
       "_view_name": "LayoutView",
       "align_content": null,
       "align_items": null,
       "align_self": null,
       "border": null,
       "bottom": null,
       "display": null,
       "flex": null,
       "flex_flow": null,
       "grid_area": null,
       "grid_auto_columns": null,
       "grid_auto_flow": null,
       "grid_auto_rows": null,
       "grid_column": null,
       "grid_gap": null,
       "grid_row": null,
       "grid_template_areas": null,
       "grid_template_columns": null,
       "grid_template_rows": null,
       "height": null,
       "justify_content": null,
       "justify_items": null,
       "left": null,
       "margin": null,
       "max_height": null,
       "max_width": null,
       "min_height": null,
       "min_width": null,
       "object_fit": null,
       "object_position": null,
       "order": null,
       "overflow": null,
       "overflow_x": null,
       "overflow_y": null,
       "padding": null,
       "right": null,
       "top": null,
       "visibility": null,
       "width": null
      }
     },
     "796b967d478f41cbab7fb2ebdfdc5478": {
      "model_module": "@jupyter-widgets/base",
      "model_module_version": "1.2.0",
      "model_name": "LayoutModel",
      "state": {
       "_model_module": "@jupyter-widgets/base",
       "_model_module_version": "1.2.0",
       "_model_name": "LayoutModel",
       "_view_count": null,
       "_view_module": "@jupyter-widgets/base",
       "_view_module_version": "1.2.0",
       "_view_name": "LayoutView",
       "align_content": null,
       "align_items": null,
       "align_self": null,
       "border": null,
       "bottom": null,
       "display": null,
       "flex": null,
       "flex_flow": null,
       "grid_area": null,
       "grid_auto_columns": null,
       "grid_auto_flow": null,
       "grid_auto_rows": null,
       "grid_column": null,
       "grid_gap": null,
       "grid_row": null,
       "grid_template_areas": null,
       "grid_template_columns": null,
       "grid_template_rows": null,
       "height": null,
       "justify_content": null,
       "justify_items": null,
       "left": null,
       "margin": null,
       "max_height": null,
       "max_width": null,
       "min_height": null,
       "min_width": null,
       "object_fit": null,
       "object_position": null,
       "order": null,
       "overflow": null,
       "overflow_x": null,
       "overflow_y": null,
       "padding": null,
       "right": null,
       "top": null,
       "visibility": null,
       "width": null
      }
     },
     "7ae88b4f62124e519095139c4813cc7c": {
      "model_module": "@jupyter-widgets/controls",
      "model_module_version": "1.5.0",
      "model_name": "ProgressStyleModel",
      "state": {
       "_model_module": "@jupyter-widgets/controls",
       "_model_module_version": "1.5.0",
       "_model_name": "ProgressStyleModel",
       "_view_count": null,
       "_view_module": "@jupyter-widgets/base",
       "_view_module_version": "1.2.0",
       "_view_name": "StyleView",
       "bar_color": null,
       "description_width": ""
      }
     },
     "7b4e27197f5b43fe91350074e3f45b60": {
      "model_module": "@jupyter-widgets/controls",
      "model_module_version": "1.5.0",
      "model_name": "ProgressStyleModel",
      "state": {
       "_model_module": "@jupyter-widgets/controls",
       "_model_module_version": "1.5.0",
       "_model_name": "ProgressStyleModel",
       "_view_count": null,
       "_view_module": "@jupyter-widgets/base",
       "_view_module_version": "1.2.0",
       "_view_name": "StyleView",
       "bar_color": null,
       "description_width": ""
      }
     },
     "7f99f493eaef4ef089bc9ab3a6c7f321": {
      "model_module": "@jupyter-widgets/controls",
      "model_module_version": "1.5.0",
      "model_name": "FloatProgressModel",
      "state": {
       "_dom_classes": [],
       "_model_module": "@jupyter-widgets/controls",
       "_model_module_version": "1.5.0",
       "_model_name": "FloatProgressModel",
       "_view_count": null,
       "_view_module": "@jupyter-widgets/controls",
       "_view_module_version": "1.5.0",
       "_view_name": "ProgressView",
       "bar_style": "success",
       "description": "",
       "description_tooltip": null,
       "layout": "IPY_MODEL_1e79e17011d54afbabd95a50655c4b9b",
       "max": 237990.0,
       "min": 0.0,
       "orientation": "horizontal",
       "style": "IPY_MODEL_7ae88b4f62124e519095139c4813cc7c",
       "value": 237990.0
      }
     },
     "873947ad89b4493399cbc737ce9ee0a7": {
      "model_module": "@jupyter-widgets/controls",
      "model_module_version": "1.5.0",
      "model_name": "HTMLModel",
      "state": {
       "_dom_classes": [],
       "_model_module": "@jupyter-widgets/controls",
       "_model_module_version": "1.5.0",
       "_model_name": "HTMLModel",
       "_view_count": null,
       "_view_module": "@jupyter-widgets/controls",
       "_view_module_version": "1.5.0",
       "_view_name": "HTMLView",
       "description": "",
       "description_tooltip": null,
       "layout": "IPY_MODEL_d3183a2b705a4b7899699e1d937096c4",
       "placeholder": "​",
       "style": "IPY_MODEL_0db66f4853114ce1bf216269b1f6c587",
       "value": "special_tokens_map.json: 100%"
      }
     },
     "901d2daf629743d5b4978e4ca8d38ef2": {
      "model_module": "@jupyter-widgets/base",
      "model_module_version": "1.2.0",
      "model_name": "LayoutModel",
      "state": {
       "_model_module": "@jupyter-widgets/base",
       "_model_module_version": "1.2.0",
       "_model_name": "LayoutModel",
       "_view_count": null,
       "_view_module": "@jupyter-widgets/base",
       "_view_module_version": "1.2.0",
       "_view_name": "LayoutView",
       "align_content": null,
       "align_items": null,
       "align_self": null,
       "border": null,
       "bottom": null,
       "display": null,
       "flex": null,
       "flex_flow": null,
       "grid_area": null,
       "grid_auto_columns": null,
       "grid_auto_flow": null,
       "grid_auto_rows": null,
       "grid_column": null,
       "grid_gap": null,
       "grid_row": null,
       "grid_template_areas": null,
       "grid_template_columns": null,
       "grid_template_rows": null,
       "height": null,
       "justify_content": null,
       "justify_items": null,
       "left": null,
       "margin": null,
       "max_height": null,
       "max_width": null,
       "min_height": null,
       "min_width": null,
       "object_fit": null,
       "object_position": null,
       "order": null,
       "overflow": null,
       "overflow_x": null,
       "overflow_y": null,
       "padding": null,
       "right": null,
       "top": null,
       "visibility": null,
       "width": null
      }
     },
     "9247c3380bbf47248285582c95c0bb94": {
      "model_module": "@jupyter-widgets/controls",
      "model_module_version": "1.5.0",
      "model_name": "DescriptionStyleModel",
      "state": {
       "_model_module": "@jupyter-widgets/controls",
       "_model_module_version": "1.5.0",
       "_model_name": "DescriptionStyleModel",
       "_view_count": null,
       "_view_module": "@jupyter-widgets/base",
       "_view_module_version": "1.2.0",
       "_view_name": "StyleView",
       "description_width": ""
      }
     },
     "960541eec4b6414baa28cc7bb6d4f0fe": {
      "model_module": "@jupyter-widgets/base",
      "model_module_version": "1.2.0",
      "model_name": "LayoutModel",
      "state": {
       "_model_module": "@jupyter-widgets/base",
       "_model_module_version": "1.2.0",
       "_model_name": "LayoutModel",
       "_view_count": null,
       "_view_module": "@jupyter-widgets/base",
       "_view_module_version": "1.2.0",
       "_view_name": "LayoutView",
       "align_content": null,
       "align_items": null,
       "align_self": null,
       "border": null,
       "bottom": null,
       "display": null,
       "flex": null,
       "flex_flow": null,
       "grid_area": null,
       "grid_auto_columns": null,
       "grid_auto_flow": null,
       "grid_auto_rows": null,
       "grid_column": null,
       "grid_gap": null,
       "grid_row": null,
       "grid_template_areas": null,
       "grid_template_columns": null,
       "grid_template_rows": null,
       "height": null,
       "justify_content": null,
       "justify_items": null,
       "left": null,
       "margin": null,
       "max_height": null,
       "max_width": null,
       "min_height": null,
       "min_width": null,
       "object_fit": null,
       "object_position": null,
       "order": null,
       "overflow": null,
       "overflow_x": null,
       "overflow_y": null,
       "padding": null,
       "right": null,
       "top": null,
       "visibility": null,
       "width": null
      }
     },
     "9bd6bf663e32434f8c9e542e30fe2ab1": {
      "model_module": "@jupyter-widgets/controls",
      "model_module_version": "1.5.0",
      "model_name": "HTMLModel",
      "state": {
       "_dom_classes": [],
       "_model_module": "@jupyter-widgets/controls",
       "_model_module_version": "1.5.0",
       "_model_name": "HTMLModel",
       "_view_count": null,
       "_view_module": "@jupyter-widgets/controls",
       "_view_module_version": "1.5.0",
       "_view_name": "HTMLView",
       "description": "",
       "description_tooltip": null,
       "layout": "IPY_MODEL_901d2daf629743d5b4978e4ca8d38ef2",
       "placeholder": "​",
       "style": "IPY_MODEL_126f724e83eb4001970f8379280cf5fa",
       "value": " 656/656 [00:00&lt;00:00, 50.2kB/s]"
      }
     },
     "9e1cb56f92c5411faa8cbb6caf663a9e": {
      "model_module": "@jupyter-widgets/controls",
      "model_module_version": "1.5.0",
      "model_name": "FloatProgressModel",
      "state": {
       "_dom_classes": [],
       "_model_module": "@jupyter-widgets/controls",
       "_model_module_version": "1.5.0",
       "_model_name": "FloatProgressModel",
       "_view_count": null,
       "_view_module": "@jupyter-widgets/controls",
       "_view_module_version": "1.5.0",
       "_view_name": "ProgressView",
       "bar_style": "success",
       "description": "",
       "description_tooltip": null,
       "layout": "IPY_MODEL_4cbb74059f8343c4888815416b734fb1",
       "max": 1787.0,
       "min": 0.0,
       "orientation": "horizontal",
       "style": "IPY_MODEL_f2d18deeb25642a4880569783e5cbad7",
       "value": 1787.0
      }
     },
     "9fff9847b2824986859bc0af203270c1": {
      "model_module": "@jupyter-widgets/controls",
      "model_module_version": "1.5.0",
      "model_name": "FloatProgressModel",
      "state": {
       "_dom_classes": [],
       "_model_module": "@jupyter-widgets/controls",
       "_model_module_version": "1.5.0",
       "_model_name": "FloatProgressModel",
       "_view_count": null,
       "_view_module": "@jupyter-widgets/controls",
       "_view_module_version": "1.5.0",
       "_view_name": "ProgressView",
       "bar_style": "success",
       "description": "",
       "description_tooltip": null,
       "layout": "IPY_MODEL_d4e0f9f076d9404caae7f2fd7d048727",
       "max": 25.0,
       "min": 0.0,
       "orientation": "horizontal",
       "style": "IPY_MODEL_7b4e27197f5b43fe91350074e3f45b60",
       "value": 25.0
      }
     },
     "a0adae6c39ba4be8a91f4e862f8bf186": {
      "model_module": "@jupyter-widgets/controls",
      "model_module_version": "1.5.0",
      "model_name": "HTMLModel",
      "state": {
       "_dom_classes": [],
       "_model_module": "@jupyter-widgets/controls",
       "_model_module_version": "1.5.0",
       "_model_name": "HTMLModel",
       "_view_count": null,
       "_view_module": "@jupyter-widgets/controls",
       "_view_module_version": "1.5.0",
       "_view_name": "HTMLView",
       "description": "",
       "description_tooltip": null,
       "layout": "IPY_MODEL_ada9d1c24bfa4e3a9a29361f8d5e5f89",
       "placeholder": "​",
       "style": "IPY_MODEL_c79c5bbbfc8943e6a76542f949b3cfa3",
       "value": "tokenizer_config.json: 100%"
      }
     },
     "a5b9b409506a46dd9636a76c7658a206": {
      "model_module": "@jupyter-widgets/base",
      "model_module_version": "1.2.0",
      "model_name": "LayoutModel",
      "state": {
       "_model_module": "@jupyter-widgets/base",
       "_model_module_version": "1.2.0",
       "_model_name": "LayoutModel",
       "_view_count": null,
       "_view_module": "@jupyter-widgets/base",
       "_view_module_version": "1.2.0",
       "_view_name": "LayoutView",
       "align_content": null,
       "align_items": null,
       "align_self": null,
       "border": null,
       "bottom": null,
       "display": null,
       "flex": null,
       "flex_flow": null,
       "grid_area": null,
       "grid_auto_columns": null,
       "grid_auto_flow": null,
       "grid_auto_rows": null,
       "grid_column": null,
       "grid_gap": null,
       "grid_row": null,
       "grid_template_areas": null,
       "grid_template_columns": null,
       "grid_template_rows": null,
       "height": null,
       "justify_content": null,
       "justify_items": null,
       "left": null,
       "margin": null,
       "max_height": null,
       "max_width": null,
       "min_height": null,
       "min_width": null,
       "object_fit": null,
       "object_position": null,
       "order": null,
       "overflow": null,
       "overflow_x": null,
       "overflow_y": null,
       "padding": null,
       "right": null,
       "top": null,
       "visibility": null,
       "width": null
      }
     },
     "ada9d1c24bfa4e3a9a29361f8d5e5f89": {
      "model_module": "@jupyter-widgets/base",
      "model_module_version": "1.2.0",
      "model_name": "LayoutModel",
      "state": {
       "_model_module": "@jupyter-widgets/base",
       "_model_module_version": "1.2.0",
       "_model_name": "LayoutModel",
       "_view_count": null,
       "_view_module": "@jupyter-widgets/base",
       "_view_module_version": "1.2.0",
       "_view_name": "LayoutView",
       "align_content": null,
       "align_items": null,
       "align_self": null,
       "border": null,
       "bottom": null,
       "display": null,
       "flex": null,
       "flex_flow": null,
       "grid_area": null,
       "grid_auto_columns": null,
       "grid_auto_flow": null,
       "grid_auto_rows": null,
       "grid_column": null,
       "grid_gap": null,
       "grid_row": null,
       "grid_template_areas": null,
       "grid_template_columns": null,
       "grid_template_rows": null,
       "height": null,
       "justify_content": null,
       "justify_items": null,
       "left": null,
       "margin": null,
       "max_height": null,
       "max_width": null,
       "min_height": null,
       "min_width": null,
       "object_fit": null,
       "object_position": null,
       "order": null,
       "overflow": null,
       "overflow_x": null,
       "overflow_y": null,
       "padding": null,
       "right": null,
       "top": null,
       "visibility": null,
       "width": null
      }
     },
     "b0f66ebe4d634d0382c1c434eb198305": {
      "model_module": "@jupyter-widgets/controls",
      "model_module_version": "1.5.0",
      "model_name": "ProgressStyleModel",
      "state": {
       "_model_module": "@jupyter-widgets/controls",
       "_model_module_version": "1.5.0",
       "_model_name": "ProgressStyleModel",
       "_view_count": null,
       "_view_module": "@jupyter-widgets/base",
       "_view_module_version": "1.2.0",
       "_view_name": "StyleView",
       "bar_color": null,
       "description_width": ""
      }
     },
     "b700eafcb69d4383aaf4ac561d21b99b": {
      "model_module": "@jupyter-widgets/base",
      "model_module_version": "1.2.0",
      "model_name": "LayoutModel",
      "state": {
       "_model_module": "@jupyter-widgets/base",
       "_model_module_version": "1.2.0",
       "_model_name": "LayoutModel",
       "_view_count": null,
       "_view_module": "@jupyter-widgets/base",
       "_view_module_version": "1.2.0",
       "_view_name": "LayoutView",
       "align_content": null,
       "align_items": null,
       "align_self": null,
       "border": null,
       "bottom": null,
       "display": null,
       "flex": null,
       "flex_flow": null,
       "grid_area": null,
       "grid_auto_columns": null,
       "grid_auto_flow": null,
       "grid_auto_rows": null,
       "grid_column": null,
       "grid_gap": null,
       "grid_row": null,
       "grid_template_areas": null,
       "grid_template_columns": null,
       "grid_template_rows": null,
       "height": null,
       "justify_content": null,
       "justify_items": null,
       "left": null,
       "margin": null,
       "max_height": null,
       "max_width": null,
       "min_height": null,
       "min_width": null,
       "object_fit": null,
       "object_position": null,
       "order": null,
       "overflow": null,
       "overflow_x": null,
       "overflow_y": null,
       "padding": null,
       "right": null,
       "top": null,
       "visibility": null,
       "width": null
      }
     },
     "b9f3ecb9baf74900b96b6fc20b7d58e2": {
      "model_module": "@jupyter-widgets/controls",
      "model_module_version": "1.5.0",
      "model_name": "HBoxModel",
      "state": {
       "_dom_classes": [],
       "_model_module": "@jupyter-widgets/controls",
       "_model_module_version": "1.5.0",
       "_model_name": "HBoxModel",
       "_view_count": null,
       "_view_module": "@jupyter-widgets/controls",
       "_view_module_version": "1.5.0",
       "_view_name": "HBoxView",
       "box_style": "",
       "children": [
        "IPY_MODEL_422fd6d199cf418e854c06f06d3552f6",
        "IPY_MODEL_7f99f493eaef4ef089bc9ab3a6c7f321",
        "IPY_MODEL_64efd497fe804e3b8b30b72d4f272d4a"
       ],
       "layout": "IPY_MODEL_796b967d478f41cbab7fb2ebdfdc5478"
      }
     },
     "c13707c0767f4a2687694064904e75ce": {
      "model_module": "@jupyter-widgets/controls",
      "model_module_version": "1.5.0",
      "model_name": "DescriptionStyleModel",
      "state": {
       "_model_module": "@jupyter-widgets/controls",
       "_model_module_version": "1.5.0",
       "_model_name": "DescriptionStyleModel",
       "_view_count": null,
       "_view_module": "@jupyter-widgets/base",
       "_view_module_version": "1.2.0",
       "_view_name": "StyleView",
       "description_width": ""
      }
     },
     "c3033671b7aa4bb18a82c09431148884": {
      "model_module": "@jupyter-widgets/controls",
      "model_module_version": "1.5.0",
      "model_name": "HBoxModel",
      "state": {
       "_dom_classes": [],
       "_model_module": "@jupyter-widgets/controls",
       "_model_module_version": "1.5.0",
       "_model_name": "HBoxModel",
       "_view_count": null,
       "_view_module": "@jupyter-widgets/controls",
       "_view_module_version": "1.5.0",
       "_view_name": "HBoxView",
       "box_style": "",
       "children": [
        "IPY_MODEL_09678d92d4c146b19458d2f69012b0fa",
        "IPY_MODEL_4118b40a9522400c95cbc2b2984152be",
        "IPY_MODEL_9bd6bf663e32434f8c9e542e30fe2ab1"
       ],
       "layout": "IPY_MODEL_01b77165d5834bad801b9824ab90fd8f"
      }
     },
     "c79c5bbbfc8943e6a76542f949b3cfa3": {
      "model_module": "@jupyter-widgets/controls",
      "model_module_version": "1.5.0",
      "model_name": "DescriptionStyleModel",
      "state": {
       "_model_module": "@jupyter-widgets/controls",
       "_model_module_version": "1.5.0",
       "_model_name": "DescriptionStyleModel",
       "_view_count": null,
       "_view_module": "@jupyter-widgets/base",
       "_view_module_version": "1.2.0",
       "_view_name": "StyleView",
       "description_width": ""
      }
     },
     "d3183a2b705a4b7899699e1d937096c4": {
      "model_module": "@jupyter-widgets/base",
      "model_module_version": "1.2.0",
      "model_name": "LayoutModel",
      "state": {
       "_model_module": "@jupyter-widgets/base",
       "_model_module_version": "1.2.0",
       "_model_name": "LayoutModel",
       "_view_count": null,
       "_view_module": "@jupyter-widgets/base",
       "_view_module_version": "1.2.0",
       "_view_name": "LayoutView",
       "align_content": null,
       "align_items": null,
       "align_self": null,
       "border": null,
       "bottom": null,
       "display": null,
       "flex": null,
       "flex_flow": null,
       "grid_area": null,
       "grid_auto_columns": null,
       "grid_auto_flow": null,
       "grid_auto_rows": null,
       "grid_column": null,
       "grid_gap": null,
       "grid_row": null,
       "grid_template_areas": null,
       "grid_template_columns": null,
       "grid_template_rows": null,
       "height": null,
       "justify_content": null,
       "justify_items": null,
       "left": null,
       "margin": null,
       "max_height": null,
       "max_width": null,
       "min_height": null,
       "min_width": null,
       "object_fit": null,
       "object_position": null,
       "order": null,
       "overflow": null,
       "overflow_x": null,
       "overflow_y": null,
       "padding": null,
       "right": null,
       "top": null,
       "visibility": null,
       "width": null
      }
     },
     "d4e0f9f076d9404caae7f2fd7d048727": {
      "model_module": "@jupyter-widgets/base",
      "model_module_version": "1.2.0",
      "model_name": "LayoutModel",
      "state": {
       "_model_module": "@jupyter-widgets/base",
       "_model_module_version": "1.2.0",
       "_model_name": "LayoutModel",
       "_view_count": null,
       "_view_module": "@jupyter-widgets/base",
       "_view_module_version": "1.2.0",
       "_view_name": "LayoutView",
       "align_content": null,
       "align_items": null,
       "align_self": null,
       "border": null,
       "bottom": null,
       "display": null,
       "flex": null,
       "flex_flow": null,
       "grid_area": null,
       "grid_auto_columns": null,
       "grid_auto_flow": null,
       "grid_auto_rows": null,
       "grid_column": null,
       "grid_gap": null,
       "grid_row": null,
       "grid_template_areas": null,
       "grid_template_columns": null,
       "grid_template_rows": null,
       "height": null,
       "justify_content": null,
       "justify_items": null,
       "left": null,
       "margin": null,
       "max_height": null,
       "max_width": null,
       "min_height": null,
       "min_width": null,
       "object_fit": null,
       "object_position": null,
       "order": null,
       "overflow": null,
       "overflow_x": null,
       "overflow_y": null,
       "padding": null,
       "right": null,
       "top": null,
       "visibility": null,
       "width": null
      }
     },
     "d538eb523ce74cebbf91648a0ac469a7": {
      "model_module": "@jupyter-widgets/controls",
      "model_module_version": "1.5.0",
      "model_name": "DescriptionStyleModel",
      "state": {
       "_model_module": "@jupyter-widgets/controls",
       "_model_module_version": "1.5.0",
       "_model_name": "DescriptionStyleModel",
       "_view_count": null,
       "_view_module": "@jupyter-widgets/base",
       "_view_module_version": "1.2.0",
       "_view_name": "StyleView",
       "description_width": ""
      }
     },
     "e0d7d45c13e84d3999d59544a0d8bc72": {
      "model_module": "@jupyter-widgets/controls",
      "model_module_version": "1.5.0",
      "model_name": "DescriptionStyleModel",
      "state": {
       "_model_module": "@jupyter-widgets/controls",
       "_model_module_version": "1.5.0",
       "_model_name": "DescriptionStyleModel",
       "_view_count": null,
       "_view_module": "@jupyter-widgets/base",
       "_view_module_version": "1.2.0",
       "_view_name": "StyleView",
       "description_width": ""
      }
     },
     "e2d9ec5e1fc64d9e9615369121387b43": {
      "model_module": "@jupyter-widgets/controls",
      "model_module_version": "1.5.0",
      "model_name": "HTMLModel",
      "state": {
       "_dom_classes": [],
       "_model_module": "@jupyter-widgets/controls",
       "_model_module_version": "1.5.0",
       "_model_name": "HTMLModel",
       "_view_count": null,
       "_view_module": "@jupyter-widgets/controls",
       "_view_module_version": "1.5.0",
       "_view_name": "HTMLView",
       "description": "",
       "description_tooltip": null,
       "layout": "IPY_MODEL_3c09ba1a5f4a484d918fffffeef05aab",
       "placeholder": "​",
       "style": "IPY_MODEL_ec3a642de03c4948b33b44c806dea3d4",
       "value": " 1.79k/1.79k [00:00&lt;00:00, 158kB/s]"
      }
     },
     "e7ef14eacc744c2bb900c2bd9f4cf529": {
      "model_module": "@jupyter-widgets/controls",
      "model_module_version": "1.5.0",
      "model_name": "HBoxModel",
      "state": {
       "_dom_classes": [],
       "_model_module": "@jupyter-widgets/controls",
       "_model_module_version": "1.5.0",
       "_model_name": "HBoxModel",
       "_view_count": null,
       "_view_module": "@jupyter-widgets/controls",
       "_view_module_version": "1.5.0",
       "_view_name": "HBoxView",
       "box_style": "",
       "children": [
        "IPY_MODEL_873947ad89b4493399cbc737ce9ee0a7",
        "IPY_MODEL_9e1cb56f92c5411faa8cbb6caf663a9e",
        "IPY_MODEL_e2d9ec5e1fc64d9e9615369121387b43"
       ],
       "layout": "IPY_MODEL_b700eafcb69d4383aaf4ac561d21b99b"
      }
     },
     "e8d021246668412886e9bfb9156b0637": {
      "model_module": "@jupyter-widgets/controls",
      "model_module_version": "1.5.0",
      "model_name": "HTMLModel",
      "state": {
       "_dom_classes": [],
       "_model_module": "@jupyter-widgets/controls",
       "_model_module_version": "1.5.0",
       "_model_name": "HTMLModel",
       "_view_count": null,
       "_view_module": "@jupyter-widgets/controls",
       "_view_module_version": "1.5.0",
       "_view_name": "HTMLView",
       "description": "",
       "description_tooltip": null,
       "layout": "IPY_MODEL_4a724ba81a3b420293028fe6af1995b5",
       "placeholder": "​",
       "style": "IPY_MODEL_9247c3380bbf47248285582c95c0bb94",
       "value": "pytorch_model.bin: 100%"
      }
     },
     "ec3a642de03c4948b33b44c806dea3d4": {
      "model_module": "@jupyter-widgets/controls",
      "model_module_version": "1.5.0",
      "model_name": "DescriptionStyleModel",
      "state": {
       "_model_module": "@jupyter-widgets/controls",
       "_model_module_version": "1.5.0",
       "_model_name": "DescriptionStyleModel",
       "_view_count": null,
       "_view_module": "@jupyter-widgets/base",
       "_view_module_version": "1.2.0",
       "_view_name": "StyleView",
       "description_width": ""
      }
     },
     "f294b19929ee4ff1816764048deb2cf1": {
      "model_module": "@jupyter-widgets/controls",
      "model_module_version": "1.5.0",
      "model_name": "HBoxModel",
      "state": {
       "_dom_classes": [],
       "_model_module": "@jupyter-widgets/controls",
       "_model_module_version": "1.5.0",
       "_model_name": "HBoxModel",
       "_view_count": null,
       "_view_module": "@jupyter-widgets/controls",
       "_view_module_version": "1.5.0",
       "_view_name": "HBoxView",
       "box_style": "",
       "children": [
        "IPY_MODEL_e8d021246668412886e9bfb9156b0637",
        "IPY_MODEL_41528d6995b74b9597d359c38a612807",
        "IPY_MODEL_573ec775fec8480c827a957d4c5c756b"
       ],
       "layout": "IPY_MODEL_0784982a2eb14cdeb4ee146b44a96450"
      }
     },
     "f2d18deeb25642a4880569783e5cbad7": {
      "model_module": "@jupyter-widgets/controls",
      "model_module_version": "1.5.0",
      "model_name": "ProgressStyleModel",
      "state": {
       "_model_module": "@jupyter-widgets/controls",
       "_model_module_version": "1.5.0",
       "_model_name": "ProgressStyleModel",
       "_view_count": null,
       "_view_module": "@jupyter-widgets/base",
       "_view_module_version": "1.2.0",
       "_view_name": "StyleView",
       "bar_color": null,
       "description_width": ""
      }
     },
     "fb8af0ca08cf4613a843fd6241369fe9": {
      "model_module": "@jupyter-widgets/base",
      "model_module_version": "1.2.0",
      "model_name": "LayoutModel",
      "state": {
       "_model_module": "@jupyter-widgets/base",
       "_model_module_version": "1.2.0",
       "_model_name": "LayoutModel",
       "_view_count": null,
       "_view_module": "@jupyter-widgets/base",
       "_view_module_version": "1.2.0",
       "_view_name": "LayoutView",
       "align_content": null,
       "align_items": null,
       "align_self": null,
       "border": null,
       "bottom": null,
       "display": null,
       "flex": null,
       "flex_flow": null,
       "grid_area": null,
       "grid_auto_columns": null,
       "grid_auto_flow": null,
       "grid_auto_rows": null,
       "grid_column": null,
       "grid_gap": null,
       "grid_row": null,
       "grid_template_areas": null,
       "grid_template_columns": null,
       "grid_template_rows": null,
       "height": null,
       "justify_content": null,
       "justify_items": null,
       "left": null,
       "margin": null,
       "max_height": null,
       "max_width": null,
       "min_height": null,
       "min_width": null,
       "object_fit": null,
       "object_position": null,
       "order": null,
       "overflow": null,
       "overflow_x": null,
       "overflow_y": null,
       "padding": null,
       "right": null,
       "top": null,
       "visibility": null,
       "width": null
      }
     }
    },
    "version_major": 2,
    "version_minor": 0
   }
  }
 },
 "nbformat": 4,
 "nbformat_minor": 5
}
